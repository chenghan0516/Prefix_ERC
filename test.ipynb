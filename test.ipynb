{
 "cells": [
  {
   "cell_type": "code",
   "execution_count": 1,
   "metadata": {},
   "outputs": [
    {
     "name": "stderr",
     "output_type": "stream",
     "text": [
      "e:\\python\\CARC_stuff\\CARCVenv\\Lib\\site-packages\\tqdm\\auto.py:21: TqdmWarning: IProgress not found. Please update jupyter and ipywidgets. See https://ipywidgets.readthedocs.io/en/stable/user_install.html\n",
      "  from .autonotebook import tqdm as notebook_tqdm\n"
     ]
    }
   ],
   "source": [
    "from transformers import AutoTokenizer, AutoModelForSeq2SeqLM, default_data_collator, get_linear_schedule_with_warmup\n",
    "from peft import get_peft_config, get_peft_model, get_peft_model_state_dict, PrefixTuningConfig, TaskType\n",
    "from datasets import load_dataset\n",
    "from torch.utils.data import DataLoader\n",
    "from tqdm import tqdm\n",
    "import torch\n",
    "import os\n",
    "import pandas as pd\n",
    "\n",
    "# load csv from data/MELD\n",
    "train_df = pd.read_csv(\"data/MELD/train_sent_emo.csv\")\n",
    "valid_df = pd.read_csv(\"data/MELD/dev_sent_emo.csv\")\n",
    "test_df = pd.read_csv(\"data/MELD/test_sent_emo.csv\")\n"
   ]
  },
  {
   "cell_type": "code",
   "execution_count": null,
   "metadata": {},
   "outputs": [],
   "source": [
    "# Apply prefix tuning to solve the emotion recognition task\n",
    "# First, do the language modeling task with prefix tuning\n",
    "# The prefix are the emotions in the dataset, and the model will learn to predict the next word based on the prefix\n",
    "\n",
    "def get_data_loader(df, tokenizer, max_length=128, batch_size=16):\n",
    "    \"\"\"\n",
    "    Create a DataLoader for the dataset.\n",
    "    \"\"\"\n",
    "    def encode(examples):\n",
    "        return tokenizer(\n",
    "            examples['Utterance'],\n",
    "            truncation=True,\n",
    "            padding='max_length',\n",
    "            max_length=max_length,\n",
    "            return_tensors='pt'\n",
    "        )\n",
    "\n",
    "    # Encode the dataset\n",
    "    encoded_dataset = df.apply(encode, axis=1).tolist()\n",
    "    \n",
    "    # Create DataLoader\n",
    "    data_loader = DataLoader(\n",
    "        encoded_dataset,\n",
    "        batch_size=batch_size,\n",
    "        collate_fn=default_data_collator\n",
    "    )\n",
    "    \n",
    "    return data_loader\n",
    "\n"
   ]
  }
 ],
 "metadata": {
  "kernelspec": {
   "display_name": "CARCVenv",
   "language": "python",
   "name": "python3"
  },
  "language_info": {
   "codemirror_mode": {
    "name": "ipython",
    "version": 3
   },
   "file_extension": ".py",
   "mimetype": "text/x-python",
   "name": "python",
   "nbconvert_exporter": "python",
   "pygments_lexer": "ipython3",
   "version": "3.11.4"
  }
 },
 "nbformat": 4,
 "nbformat_minor": 2
}
