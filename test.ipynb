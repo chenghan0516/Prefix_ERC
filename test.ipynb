{
 "cells": [
  {
   "cell_type": "markdown",
   "metadata": {},
   "source": [
    "# Imports"
   ]
  },
  {
   "cell_type": "code",
   "execution_count": 1,
   "metadata": {},
   "outputs": [],
   "source": [
    "from transformers import AutoTokenizer, AutoModelForSeq2SeqLM, AutoProcessor, Llama4ForConditionalGeneration, default_data_collator, get_linear_schedule_with_warmup\n",
    "from peft import get_peft_config, get_peft_model, get_peft_model_state_dict, PrefixTuningConfig\n",
    "from datasets import load_dataset, Dataset\n",
    "from torch.utils.data import DataLoader\n",
    "from tqdm.notebook import tqdm, trange\n",
    "import torch\n",
    "import os\n",
    "import pandas as pd\n",
    "import numpy as np"
   ]
  },
  {
   "cell_type": "markdown",
   "metadata": {},
   "source": [
    "# Parameters"
   ]
  },
  {
   "cell_type": "code",
   "execution_count": 132,
   "metadata": {},
   "outputs": [],
   "source": [
    "# load csv from data/MELD\n",
    "raw_train_df = pd.read_csv(\"data/MELD/train_sent_emo.csv\")\n",
    "raw_valid_df = pd.read_csv(\"data/MELD/dev_sent_emo.csv\")\n",
    "raw_test_df = pd.read_csv(\"data/MELD/test_sent_emo.csv\")\n",
    "\n",
    "#take only Utterance and Emotion columns\n",
    "train_df = raw_train_df[['Dialogue_ID', 'Utterance', 'Emotion']]\n",
    "valid_df = raw_valid_df[['Dialogue_ID', 'Utterance', 'Emotion']]\n",
    "test_df = raw_test_df[['Dialogue_ID', 'Utterance', 'Emotion']]\n",
    "\n",
    "\n",
    "\n",
    "model_name_or_path = \"t5-base\"\n",
    "tokenizer_name_or_path = \"t5-base\"\n",
    "\n",
    "num_virtual_tokens = 20\n",
    "max_length = 256\n",
    "\n",
    "do_train = True\n",
    "do_eval = True\n",
    "\n",
    "lr = 1e-3\n",
    "warmup_ratio=0.1\n",
    "weight_decay=0.01\n",
    "num_epochs = 20\n",
    "batch_size = 20\n",
    "logging_steps=250\n",
    "eval_steps=250\n",
    "save_steps=250\n",
    "# logging_steps=60\n",
    "# eval_steps=60\n",
    "# save_steps=60\n",
    "dataset_name = \"MELD\"\n",
    "output_dir = f\"results/{dataset_name}/{model_name_or_path.split('/')[-1]}-peft/lr_{lr}-epochs_{num_epochs}-batch_{batch_size}\"\n",
    "device = torch.device(\"cuda\" if torch.cuda.is_available() else \"cpu\")\n",
    "\n",
    "num_subjects = len(raw_train_df['Emotion'].unique())+1\n",
    "peft_padding_id = num_subjects*num_virtual_tokens\n"
   ]
  },
  {
   "cell_type": "markdown",
   "metadata": {},
   "source": [
    "# integrate model class with dataset"
   ]
  },
  {
   "cell_type": "markdown",
   "metadata": {},
   "source": [
    "## AbstractPrompt Classes"
   ]
  },
  {
   "cell_type": "code",
   "execution_count": 3,
   "metadata": {},
   "outputs": [],
   "source": [
    "from peft import PeftModelForSeq2SeqLM, PeftConfig, PromptEncoderReparameterizationType, PromptEncoderConfig\n",
    "from peft.tuners.prefix_tuning import PrefixEncoder\n",
    "from peft.tuners.p_tuning import PromptEncoder\n",
    "from peft.utils import _get_batch_size, TRANSFORMERS_MODELS_TO_PREFIX_TUNING_POSTPROCESS_MAPPING, map_cache_to_layer_device_map, PeftType, TaskType\n",
    "from transformers import PreTrainedModel, DynamicCache, EncoderDecoderCache\n",
    "from typing import Optional\n",
    "import torch\n",
    "import numpy as np\n",
    "import warnings\n",
    "from dataclasses import dataclass, field\n",
    "import enum\n",
    "from peft.mapping import MODEL_TYPE_TO_PEFT_MODEL_MAPPING\n",
    "from typing import Union, List, Dict, Any\n",
    "\n",
    "\n",
    "@dataclass\n",
    "class AbstractPromptEncoderConfig(PromptEncoderConfig):\n",
    "    \"\"\"\n",
    "    This is the configuration class to store the configuration of a [`PromptEncoder`].\n",
    "\n",
    "    Args:\n",
    "        encoder_reparameterization_type (Union[[`PromptEncoderReparameterizationType`], `str`]):\n",
    "            The type of reparameterization to use.\n",
    "        encoder_hidden_size (`int`): The hidden size of the prompt encoder.\n",
    "        encoder_num_layers (`int`): The number of layers of the prompt encoder.\n",
    "        encoder_dropout (`float`): The dropout probability of the prompt encoder.\n",
    "    \"\"\"\n",
    "\n",
    "    num_subjects: int = field(\n",
    "        default=8,\n",
    "        metadata={\"help\": \"The number of subjects of the prompt encoder\"},\n",
    "    )\n",
    "    padding_idx: int = field(\n",
    "        default=None,\n",
    "        metadata={\"help\": \"The padding index of the prompt encoder\"},\n",
    "    )\n",
    "    def __post_init__(self):\n",
    "        super().__post_init__()\n",
    "        self.peft_type = PeftType.AP_Tuning\n",
    "\n",
    "\n",
    "class AbstractPromptEncoder(PromptEncoder):\n",
    "    def __init__(self, config):\n",
    "        super().__init__(config)\n",
    "        self.num_subjects = config.num_subjects\n",
    "        self.total_virtual_tokens = config.num_virtual_tokens * config.num_subjects * config.num_transformer_submodules\n",
    "        if config.padding_idx is not None:\n",
    "            self.padding_idx = config.padding_idx\n",
    "        else:\n",
    "            self.padding_idx = self.total_virtual_tokens\n",
    "            self.total_virtual_tokens += 1\n",
    "\n",
    "        # embedding\n",
    "        self.embedding = torch.nn.Embedding(self.total_virtual_tokens, self.token_dim, padding_idx=self.padding_idx)\n",
    "        if not config.inference_mode:\n",
    "            if self.encoder_type == PromptEncoderReparameterizationType.LSTM:\n",
    "                lstm_dropout = config.encoder_dropout\n",
    "                num_layers = config.encoder_num_layers\n",
    "                # LSTM\n",
    "                self.lstm_head = torch.nn.LSTM(\n",
    "                    input_size=self.input_size,\n",
    "                    hidden_size=self.hidden_size,\n",
    "                    num_layers=num_layers,\n",
    "                    dropout=lstm_dropout,\n",
    "                    bidirectional=True,\n",
    "                    batch_first=True,\n",
    "                )\n",
    "\n",
    "                self.mlp_head = torch.nn.Sequential(\n",
    "                    torch.nn.Linear(self.hidden_size * 2, self.hidden_size * 2),\n",
    "                    torch.nn.ReLU(),\n",
    "                    torch.nn.Linear(self.hidden_size * 2, self.output_size),\n",
    "                )\n",
    "\n",
    "            elif self.encoder_type == PromptEncoderReparameterizationType.MLP:\n",
    "                encoder_num_layers_default = PromptEncoderConfig.encoder_num_layers\n",
    "                if config.encoder_num_layers != encoder_num_layers_default:\n",
    "                    warnings.warn(\n",
    "                        f\"for {self.encoder_type.value}, the argument `encoder_num_layers` is ignored. \"\n",
    "                        f\"Exactly {encoder_num_layers_default} MLP layers are used.\"\n",
    "                    )\n",
    "                layers = [\n",
    "                    torch.nn.Linear(self.input_size, self.hidden_size),\n",
    "                    torch.nn.ReLU(),\n",
    "                    torch.nn.Linear(self.hidden_size, self.hidden_size),\n",
    "                    torch.nn.ReLU(),\n",
    "                    torch.nn.Linear(self.hidden_size, self.output_size),\n",
    "                ]\n",
    "                self.mlp_head = torch.nn.Sequential(*layers)\n",
    "\n",
    "            else:\n",
    "                raise ValueError(\"Prompt encoder type not recognized. Please use one of MLP (recommended) or LSTM.\")\n",
    "\n",
    "\n",
    "class AbstractPeftModelForSeq2SeqLM(PeftModelForSeq2SeqLM):\n",
    "    def __init__(self, model: torch.nn.Module, peft_config: PeftConfig, adapter_name: str = \"default\", **kwargs):\n",
    "        super().__init__(model, peft_config, adapter_name, **kwargs)\n",
    "        self.model = model\n",
    "        # self.peft_config = peft_config\n",
    "\n",
    "    def _setup_prompt_encoder(self, adapter_name: str):\n",
    "        config = self.peft_config[adapter_name]\n",
    "        if not hasattr(self, \"prompt_encoder\"):\n",
    "            self.prompt_encoder = torch.nn.ModuleDict({})\n",
    "            self.prompt_tokens = {}\n",
    "        transformer_backbone = None\n",
    "        for name, module in self.base_model.named_children():\n",
    "            for param in module.parameters():\n",
    "                param.requires_grad = False\n",
    "            if isinstance(module, PreTrainedModel):\n",
    "                # Make sure to freeze Tranformers model\n",
    "                if transformer_backbone is None:\n",
    "                    transformer_backbone = module\n",
    "                    self.transformer_backbone_name = name\n",
    "        if transformer_backbone is None:\n",
    "            transformer_backbone = self.base_model\n",
    "\n",
    "        if config.num_transformer_submodules is None:\n",
    "            config.num_transformer_submodules = 2 if config.task_type in [TaskType.SEQ_2_SEQ_LM, TaskType.ABS_SEQ_2_SEQ_LM] else 1\n",
    "\n",
    "        # determine the word embeddings\n",
    "        word_embeddings = None\n",
    "        try:\n",
    "            # First try to find the word embeddings based on the module name, this should work for models like Bert,\n",
    "            # Roberta, Deberta, etc.\n",
    "            word_embeddings = self.base_model.get_submodule(\"embeddings.word_embeddings\")\n",
    "        except AttributeError:\n",
    "            pass\n",
    "\n",
    "        if word_embeddings is None:\n",
    "            # Word embeddings could not be determined. Next try to guess them by checking which parameter has the size\n",
    "            # of the vocab.\n",
    "            for named_param, value in list(transformer_backbone.named_parameters()):\n",
    "                # for ZeRO-3, the tensor is sharded across accelerators and deepspeed modifies it to a tensor with shape\n",
    "                # [0] the actual unsharded shape is stored in \"ds_shape\" attribute special handling is needed in case\n",
    "                # the model is initialized in deepspeed.zero.Init() context or HfDeepSpeedConfig has been called before\n",
    "                # For reference refer to issue: https://github.com/huggingface/peft/issues/996\n",
    "                deepspeed_distributed_tensor_shape = getattr(value, \"ds_shape\", None)\n",
    "\n",
    "                if value.shape[0] == self.base_model.config.vocab_size or (\n",
    "                    deepspeed_distributed_tensor_shape is not None\n",
    "                    and deepspeed_distributed_tensor_shape[0] == self.base_model.config.vocab_size\n",
    "                ):\n",
    "                    word_embeddings = transformer_backbone.get_submodule(named_param.replace(\".weight\", \"\"))\n",
    "                    break\n",
    "\n",
    "        self.word_embeddings = word_embeddings\n",
    "\n",
    "        prompt_encoder = AbstractPromptEncoder(config)\n",
    "\n",
    "        prompt_encoder = prompt_encoder.to(self.device)\n",
    "        self.prompt_encoder.update(torch.nn.ModuleDict({adapter_name: prompt_encoder}))\n",
    "        \n",
    "        self.prompt_tokens[adapter_name] = torch.arange(\n",
    "            config.num_virtual_tokens * config.num_subjects * config.num_transformer_submodules\n",
    "        ).long()\n",
    "\n",
    "    def get_prompt(self, batch_size: int, object_ids: Optional[torch.Tensor] = None, object_tokens: Optional[torch.Tensor] = None) -> torch.Tensor:\n",
    "        \"\"\"\n",
    "        Returns the virtual prompts to use for Peft. Only applicable when using a prompt learning method.\n",
    "\n",
    "        The object_ids should be a tensor of shape \n",
    "        \"\"\"\n",
    "        peft_config = self.active_peft_config\n",
    "        prompt_encoder = self.prompt_encoder[self.active_adapter]\n",
    "        # arrange the prompt tokens according to the object id\n",
    "        if object_tokens is not None:\n",
    "            prompt_tokens = object_tokens\n",
    "        elif object_ids is not None:\n",
    "            object_ids = object_ids.view(batch_size, -1)\n",
    "            prompt_tokens = (object_ids * peft_config.num_virtual_tokens)[:, :, None] + np.arange(peft_config.num_virtual_tokens)\n",
    "            # set token id to padding id if it is out of range\n",
    "            prompt_tokens[prompt_tokens > prompt_encoder.padding_idx] = prompt_encoder.padding_idx\n",
    "            \n",
    "        else:\n",
    "            raise ValueError(\"object_ids is None, please provide object_ids for AbstractPeftModelForSeq2SeqLM\")\n",
    "        \n",
    "\n",
    "        if peft_config.inference_mode:\n",
    "            # prompts = prompt_encoder.embedding.weight\n",
    "            # TODO: add support for inference mode\n",
    "            pass\n",
    "        else:\n",
    "            prompts = prompt_encoder(prompt_tokens) # (batch_size, num_virtual_tokens, hidden_size)\n",
    "        return prompts\n",
    "    \n",
    "    def forward(\n",
    "        self,\n",
    "        input_ids=None,\n",
    "        attention_mask=None,\n",
    "        inputs_embeds=None,\n",
    "        decoder_input_ids=None,\n",
    "        decoder_attention_mask=None,\n",
    "        decoder_inputs_embeds=None,\n",
    "        labels=None,\n",
    "        output_attentions=None,\n",
    "        output_hidden_states=None,\n",
    "        return_dict=None,\n",
    "        object_tokens=None,\n",
    "\n",
    "        **kwargs,\n",
    "    ):\n",
    "        \"\"\"\n",
    "        args:\n",
    "        object_ids: (batch_size, num_subjects) tensor of object ids. The object ids are used to select the prompt tokens. Not implemented\n",
    "        object_tokens: (batch, lengths) tensor of object tokens. The object tokens are used to generate the prompt tokens. Should be the same length as prompt tokens.\n",
    "        \"\"\"\n",
    "        peft_config = self.active_peft_config\n",
    "        batch_size = _get_batch_size(input_ids, inputs_embeds)\n",
    "        if decoder_attention_mask is not None:\n",
    "            # concat prompt attention mask\n",
    "            prefix_attention_mask = torch.ones(batch_size, peft_config.num_virtual_tokens).to(\n",
    "                decoder_attention_mask.device\n",
    "            )\n",
    "            if peft_config.peft_type not in [PeftType.PROMPT_TUNING, PeftType.P_TUNING]:\n",
    "                decoder_attention_mask = torch.cat((prefix_attention_mask, decoder_attention_mask), dim=1)\n",
    "\n",
    "        if kwargs.get(\"position_ids\", None) is not None:\n",
    "            warnings.warn(\"Position ids are not supported for parameter efficient tuning. Ignoring position ids.\")\n",
    "            kwargs[\"position_ids\"] = None\n",
    "        if kwargs.get(\"token_type_ids\", None) is not None:\n",
    "            warnings.warn(\"Token type ids are not supported for parameter efficient tuning. Ignoring token type ids\")\n",
    "            kwargs[\"token_type_ids\"] = None\n",
    "        kwargs.update(\n",
    "            {\n",
    "                \"attention_mask\": attention_mask,\n",
    "                \"decoder_attention_mask\": decoder_attention_mask,\n",
    "                \"labels\": labels,\n",
    "                \"output_attentions\": output_attentions,\n",
    "                \"output_hidden_states\": output_hidden_states,\n",
    "                \"return_dict\": return_dict,\n",
    "            }\n",
    "        )\n",
    "\n",
    "        if inputs_embeds is None:\n",
    "            inputs_embeds = self.word_embeddings(input_ids)\n",
    "\n",
    "        prompts = self.get_prompt(batch_size=batch_size, object_tokens=object_tokens)\n",
    "        prompts = prompts.to(inputs_embeds.dtype)\n",
    "\n",
    "        if inputs_embeds.dim()==3:\n",
    "            # inputs_embeds: (batch_size, sequence_len, hidden_size)\n",
    "            # prompts: (batch_size, sequence_len, hidden_size)\n",
    "            inputs_embeds = inputs_embeds+prompts\n",
    "\n",
    "        return self.base_model(\n",
    "            inputs_embeds=inputs_embeds,\n",
    "            decoder_input_ids=decoder_input_ids,\n",
    "            decoder_inputs_embeds=decoder_inputs_embeds,\n",
    "            **kwargs,\n",
    "        )\n",
    "    \n",
    "\n",
    "MODEL_TYPE_TO_PEFT_MODEL_MAPPING[\"ABS_SEQ_2_SEQ_LM\"]=AbstractPeftModelForSeq2SeqLM"
   ]
  },
  {
   "cell_type": "code",
   "execution_count": 4,
   "metadata": {},
   "outputs": [
    {
     "name": "stdout",
     "output_type": "stream",
     "text": [
      "trainable params: 2,018,304 || all params: 224,921,856 || trainable%: 0.8973\n"
     ]
    }
   ],
   "source": [
    "\n",
    "\n",
    "peft_config = AbstractPromptEncoderConfig(task_type=TaskType.ABS_SEQ_2_SEQ_LM, inference_mode=False, num_virtual_tokens=20, num_subjects=num_subjects)\n",
    "\n",
    "model = AutoModelForSeq2SeqLM.from_pretrained(model_name_or_path)\n",
    "model = get_peft_model(model, peft_config)\n",
    "model.print_trainable_parameters()"
   ]
  },
  {
   "cell_type": "markdown",
   "metadata": {},
   "source": [
    "# Create next token prediction dataset"
   ]
  },
  {
   "cell_type": "code",
   "execution_count": 5,
   "metadata": {},
   "outputs": [
    {
     "name": "stdout",
     "output_type": "stream",
     "text": [
      "train_df: 9989\n",
      "['neutral' 'surprise' 'fear' 'sadness' 'joy' 'disgust' 'anger']\n"
     ]
    },
    {
     "data": {
      "text/html": [
       "<div>\n",
       "<style scoped>\n",
       "    .dataframe tbody tr th:only-of-type {\n",
       "        vertical-align: middle;\n",
       "    }\n",
       "\n",
       "    .dataframe tbody tr th {\n",
       "        vertical-align: top;\n",
       "    }\n",
       "\n",
       "    .dataframe thead th {\n",
       "        text-align: right;\n",
       "    }\n",
       "</style>\n",
       "<table border=\"1\" class=\"dataframe\">\n",
       "  <thead>\n",
       "    <tr style=\"text-align: right;\">\n",
       "      <th></th>\n",
       "      <th>Sr No.</th>\n",
       "      <th>Utterance</th>\n",
       "      <th>Speaker</th>\n",
       "      <th>Emotion</th>\n",
       "      <th>Sentiment</th>\n",
       "      <th>Dialogue_ID</th>\n",
       "      <th>Utterance_ID</th>\n",
       "      <th>Season</th>\n",
       "      <th>Episode</th>\n",
       "      <th>StartTime</th>\n",
       "      <th>EndTime</th>\n",
       "    </tr>\n",
       "  </thead>\n",
       "  <tbody>\n",
       "    <tr>\n",
       "      <th>0</th>\n",
       "      <td>1</td>\n",
       "      <td>also I was the point person on my company’s tr...</td>\n",
       "      <td>Chandler</td>\n",
       "      <td>neutral</td>\n",
       "      <td>neutral</td>\n",
       "      <td>0</td>\n",
       "      <td>0</td>\n",
       "      <td>8</td>\n",
       "      <td>21</td>\n",
       "      <td>00:16:16,059</td>\n",
       "      <td>00:16:21,731</td>\n",
       "    </tr>\n",
       "    <tr>\n",
       "      <th>1</th>\n",
       "      <td>2</td>\n",
       "      <td>You must’ve had your hands full.</td>\n",
       "      <td>The Interviewer</td>\n",
       "      <td>neutral</td>\n",
       "      <td>neutral</td>\n",
       "      <td>0</td>\n",
       "      <td>1</td>\n",
       "      <td>8</td>\n",
       "      <td>21</td>\n",
       "      <td>00:16:21,940</td>\n",
       "      <td>00:16:23,442</td>\n",
       "    </tr>\n",
       "    <tr>\n",
       "      <th>2</th>\n",
       "      <td>3</td>\n",
       "      <td>That I did. That I did.</td>\n",
       "      <td>Chandler</td>\n",
       "      <td>neutral</td>\n",
       "      <td>neutral</td>\n",
       "      <td>0</td>\n",
       "      <td>2</td>\n",
       "      <td>8</td>\n",
       "      <td>21</td>\n",
       "      <td>00:16:23,442</td>\n",
       "      <td>00:16:26,389</td>\n",
       "    </tr>\n",
       "    <tr>\n",
       "      <th>3</th>\n",
       "      <td>4</td>\n",
       "      <td>So let’s talk a little bit about your duties.</td>\n",
       "      <td>The Interviewer</td>\n",
       "      <td>neutral</td>\n",
       "      <td>neutral</td>\n",
       "      <td>0</td>\n",
       "      <td>3</td>\n",
       "      <td>8</td>\n",
       "      <td>21</td>\n",
       "      <td>00:16:26,820</td>\n",
       "      <td>00:16:29,572</td>\n",
       "    </tr>\n",
       "    <tr>\n",
       "      <th>4</th>\n",
       "      <td>5</td>\n",
       "      <td>My duties?  All right.</td>\n",
       "      <td>Chandler</td>\n",
       "      <td>surprise</td>\n",
       "      <td>positive</td>\n",
       "      <td>0</td>\n",
       "      <td>4</td>\n",
       "      <td>8</td>\n",
       "      <td>21</td>\n",
       "      <td>00:16:34,452</td>\n",
       "      <td>00:16:40,917</td>\n",
       "    </tr>\n",
       "    <tr>\n",
       "      <th>...</th>\n",
       "      <td>...</td>\n",
       "      <td>...</td>\n",
       "      <td>...</td>\n",
       "      <td>...</td>\n",
       "      <td>...</td>\n",
       "      <td>...</td>\n",
       "      <td>...</td>\n",
       "      <td>...</td>\n",
       "      <td>...</td>\n",
       "      <td>...</td>\n",
       "      <td>...</td>\n",
       "    </tr>\n",
       "    <tr>\n",
       "      <th>9984</th>\n",
       "      <td>10474</td>\n",
       "      <td>You or me?</td>\n",
       "      <td>Chandler</td>\n",
       "      <td>neutral</td>\n",
       "      <td>neutral</td>\n",
       "      <td>1038</td>\n",
       "      <td>13</td>\n",
       "      <td>2</td>\n",
       "      <td>3</td>\n",
       "      <td>00:00:48,173</td>\n",
       "      <td>00:00:50,799</td>\n",
       "    </tr>\n",
       "    <tr>\n",
       "      <th>9985</th>\n",
       "      <td>10475</td>\n",
       "      <td>I got it. Uh, Joey, women don't have Adam's ap...</td>\n",
       "      <td>Ross</td>\n",
       "      <td>neutral</td>\n",
       "      <td>neutral</td>\n",
       "      <td>1038</td>\n",
       "      <td>14</td>\n",
       "      <td>2</td>\n",
       "      <td>3</td>\n",
       "      <td>00:00:51,009</td>\n",
       "      <td>00:00:53,594</td>\n",
       "    </tr>\n",
       "    <tr>\n",
       "      <th>9986</th>\n",
       "      <td>10476</td>\n",
       "      <td>You guys are messing with me, right?</td>\n",
       "      <td>Joey</td>\n",
       "      <td>surprise</td>\n",
       "      <td>positive</td>\n",
       "      <td>1038</td>\n",
       "      <td>15</td>\n",
       "      <td>2</td>\n",
       "      <td>3</td>\n",
       "      <td>00:01:00,518</td>\n",
       "      <td>00:01:03,520</td>\n",
       "    </tr>\n",
       "    <tr>\n",
       "      <th>9987</th>\n",
       "      <td>10477</td>\n",
       "      <td>Yeah.</td>\n",
       "      <td>All</td>\n",
       "      <td>neutral</td>\n",
       "      <td>neutral</td>\n",
       "      <td>1038</td>\n",
       "      <td>16</td>\n",
       "      <td>2</td>\n",
       "      <td>3</td>\n",
       "      <td>00:01:05,398</td>\n",
       "      <td>00:01:07,274</td>\n",
       "    </tr>\n",
       "    <tr>\n",
       "      <th>9988</th>\n",
       "      <td>10478</td>\n",
       "      <td>That was a good one. For a second there, I was...</td>\n",
       "      <td>Joey</td>\n",
       "      <td>joy</td>\n",
       "      <td>positive</td>\n",
       "      <td>1038</td>\n",
       "      <td>17</td>\n",
       "      <td>2</td>\n",
       "      <td>3</td>\n",
       "      <td>00:01:08,401</td>\n",
       "      <td>00:01:12,071</td>\n",
       "    </tr>\n",
       "  </tbody>\n",
       "</table>\n",
       "<p>9989 rows × 11 columns</p>\n",
       "</div>"
      ],
      "text/plain": [
       "      Sr No.                                          Utterance  \\\n",
       "0          1  also I was the point person on my company’s tr...   \n",
       "1          2                   You must’ve had your hands full.   \n",
       "2          3                            That I did. That I did.   \n",
       "3          4      So let’s talk a little bit about your duties.   \n",
       "4          5                             My duties?  All right.   \n",
       "...      ...                                                ...   \n",
       "9984   10474                                         You or me?   \n",
       "9985   10475  I got it. Uh, Joey, women don't have Adam's ap...   \n",
       "9986   10476               You guys are messing with me, right?   \n",
       "9987   10477                                              Yeah.   \n",
       "9988   10478  That was a good one. For a second there, I was...   \n",
       "\n",
       "              Speaker   Emotion Sentiment  Dialogue_ID  Utterance_ID  Season  \\\n",
       "0            Chandler   neutral   neutral            0             0       8   \n",
       "1     The Interviewer   neutral   neutral            0             1       8   \n",
       "2            Chandler   neutral   neutral            0             2       8   \n",
       "3     The Interviewer   neutral   neutral            0             3       8   \n",
       "4            Chandler  surprise  positive            0             4       8   \n",
       "...               ...       ...       ...          ...           ...     ...   \n",
       "9984         Chandler   neutral   neutral         1038            13       2   \n",
       "9985             Ross   neutral   neutral         1038            14       2   \n",
       "9986             Joey  surprise  positive         1038            15       2   \n",
       "9987              All   neutral   neutral         1038            16       2   \n",
       "9988             Joey       joy  positive         1038            17       2   \n",
       "\n",
       "      Episode     StartTime       EndTime  \n",
       "0          21  00:16:16,059  00:16:21,731  \n",
       "1          21  00:16:21,940  00:16:23,442  \n",
       "2          21  00:16:23,442  00:16:26,389  \n",
       "3          21  00:16:26,820  00:16:29,572  \n",
       "4          21  00:16:34,452  00:16:40,917  \n",
       "...       ...           ...           ...  \n",
       "9984        3  00:00:48,173  00:00:50,799  \n",
       "9985        3  00:00:51,009  00:00:53,594  \n",
       "9986        3  00:01:00,518  00:01:03,520  \n",
       "9987        3  00:01:05,398  00:01:07,274  \n",
       "9988        3  00:01:08,401  00:01:12,071  \n",
       "\n",
       "[9989 rows x 11 columns]"
      ]
     },
     "execution_count": 5,
     "metadata": {},
     "output_type": "execute_result"
    }
   ],
   "source": [
    "# length of the dataset\n",
    "print(f\"train_df: {len(raw_train_df)}\")\n",
    "# check the label types in Emotion\n",
    "print(raw_train_df['Emotion'].unique())\n",
    "raw_train_df"
   ]
  },
  {
   "cell_type": "markdown",
   "metadata": {},
   "source": [
    "## Tokenize the data"
   ]
  },
  {
   "cell_type": "code",
   "execution_count": 108,
   "metadata": {},
   "outputs": [],
   "source": [
    "text_column = \"Utterance\"\n",
    "label_column = \"Emotion\"\n",
    "\n",
    "tokenizer = AutoTokenizer.from_pretrained(model_name_or_path)\n",
    "emotion_name_to_id = {name:i for i, name in enumerate(raw_train_df['Emotion'].unique())}\n",
    "emotion_id_to_name = {i:name for i, name in enumerate(raw_train_df['Emotion'].unique())}\n",
    "emotion_token_to_id = {tuple(tokenizer(name)[\"input_ids\"]):i for i, name in enumerate(raw_train_df['Emotion'].unique())}\n",
    "# tokenizer(emotion_id_to_name[emotions[j]])[\"input_ids\"]\n",
    "query_id = len(emotion_name_to_id)\n",
    "\n",
    "def tokenize_function(examples):\n",
    "    # print(examples)\n",
    "    utterance = examples[text_column]\n",
    "    emotion = examples[label_column]\n",
    "    utterance_id = tokenizer(utterance, max_length=max_length, padding=False, truncation=False, return_tensors=\"pt\")[\"input_ids\"].view(-1)\n",
    "    emotion_id = emotion_name_to_id[emotion]\n",
    "    \n",
    "    return {\"Dialogue_ID\":examples[\"Dialogue_ID\"], \"UtteranceID\": utterance_id, \"EmotionID\": emotion_id}\n",
    "    \n",
    "dialogue_train_df = train_df.apply(\n",
    "    tokenize_function,\n",
    "    axis=1,\n",
    "    result_type=\"expand\",\n",
    ")\n",
    "dialogue_train_df = dialogue_train_df.groupby('Dialogue_ID').agg(list).reset_index()\n",
    "\n",
    "dialogue_eval_df = valid_df.apply(\n",
    "    tokenize_function,\n",
    "    axis=1,\n",
    "    result_type=\"expand\",\n",
    ")\n",
    "dialogue_eval_df = dialogue_eval_df.groupby('Dialogue_ID').agg(list).reset_index()\n"
   ]
  },
  {
   "cell_type": "markdown",
   "metadata": {},
   "source": [
    "## dataset transformation function"
   ]
  },
  {
   "cell_type": "code",
   "execution_count": 130,
   "metadata": {},
   "outputs": [
    {
     "name": "stdout",
     "output_type": "stream",
     "text": [
      "max_length: 256\n"
     ]
    },
    {
     "data": {
      "application/vnd.jupyter.widget-view+json": {
       "model_id": "b2d167f695fd4d8db4345127f4d3c570",
       "version_major": 2,
       "version_minor": 0
      },
      "text/plain": [
       "  0%|          | 0/1038 [00:00<?, ?it/s]"
      ]
     },
     "metadata": {},
     "output_type": "display_data"
    },
    {
     "name": "stderr",
     "output_type": "stream",
     "text": [
      "C:\\Users\\cheng\\AppData\\Local\\Temp\\ipykernel_12484\\2084052472.py:55: DeprecationWarning: __array_wrap__ must accept context and return_scalar arguments (positionally) in the future. (Deprecated NumPy 2.0)\n",
      "  prompt_tokens = (emotion * num_virtual_tokens).unsqueeze(-1).view(-1,1) + np.arange(num_virtual_tokens) if emotions[begin_idx:j] else torch.tensor([])\n"
     ]
    },
    {
     "name": "stdout",
     "output_type": "stream",
     "text": [
      "max_length: 256\n"
     ]
    },
    {
     "data": {
      "application/vnd.jupyter.widget-view+json": {
       "model_id": "d715ac6de47949dca2eba2c33d7bd615",
       "version_major": 2,
       "version_minor": 0
      },
      "text/plain": [
       "  0%|          | 0/114 [00:00<?, ?it/s]"
      ]
     },
     "metadata": {},
     "output_type": "display_data"
    }
   ],
   "source": [
    "\n",
    "def dialogue_process_function(dialogue_data, utterance_name=\"UtteranceID\", emotion_name=\"EmotionID\", max_length=None, utterance_padding_token_id=0, emotion_padding_token_id=160, query_id=7, num_virtual_tokens=20):\n",
    "    # print(examples)\n",
    "    utterances_data = dialogue_data[utterance_name]\n",
    "    emotions_data = dialogue_data[emotion_name]\n",
    "    \n",
    "    if max_length is None:\n",
    "        max_length=0\n",
    "        for utts in utterances_data:\n",
    "            length = 0\n",
    "            for utt in utts:\n",
    "                length += utt.shape[-1]+num_virtual_tokens\n",
    "            if length > max_length:\n",
    "                max_length = length\n",
    "    print(f\"max_length: {max_length}\")\n",
    "\n",
    "    output = {\n",
    "            \"UtteranceID\": [],\n",
    "            \"EmotionID\": [],\n",
    "            \"AttentionMask\": [],\n",
    "            \"Label\": [],\n",
    "        }\n",
    "    \n",
    "    for i, utterances in enumerate(tqdm(utterances_data)):\n",
    "        emotions = emotions_data[i]\n",
    "        begin_idx = 0\n",
    "        last_utterance_unpad=None\n",
    "        for j, utterance in enumerate(utterances):\n",
    "            \n",
    "            # print(f\"data: {i}, utterance: {j}, begin_idx: {begin_idx}\")\n",
    "\n",
    "            new_utterance = torch.cat([ torch.full((num_virtual_tokens,), utterance_padding_token_id, dtype=torch.long), \n",
    "                                        utterance], dim=0) # preserve space for virtual tokens\n",
    "\n",
    "            if new_utterance.shape[-1] > max_length or last_utterance_unpad is None:\n",
    "                output_utterance = new_utterance[..., :max_length] # truncation\n",
    "                begin_idx = j\n",
    "            else:\n",
    "                current_length = last_utterance_unpad.shape[-1] + new_utterance.shape[-1]\n",
    "                length_to_trim = 0\n",
    "                while current_length-length_to_trim > max_length:\n",
    "                    length_to_trim += min(utterances[begin_idx].shape[-1]+num_virtual_tokens, max_length)\n",
    "                    begin_idx+=1\n",
    "                output_utterance = torch.cat([last_utterance_unpad[..., length_to_trim:], new_utterance], dim=0)\n",
    "            output_attention_mask = torch.ones((output_utterance.shape[-1],), dtype=torch.long)\n",
    "            last_utterance_unpad = output_utterance\n",
    "            # pad the rest of the sequence\n",
    "            output_utterance = torch.cat([output_utterance, torch.full((max_length - output_utterance.shape[-1],), utterance_padding_token_id, dtype=torch.long)], dim=0)\n",
    "            output_attention_mask = torch.cat([output_attention_mask, torch.zeros((max_length - output_attention_mask.shape[-1],), dtype=torch.long)], dim=0)\n",
    "\n",
    "\n",
    "            \n",
    "            emotion = torch.tensor(emotions[begin_idx:j]+[query_id])\n",
    "            output_label = tokenizer(emotion_id_to_name[emotions[j]])[\"input_ids\"]\n",
    "\n",
    "            prompt_tokens = (emotion * num_virtual_tokens).unsqueeze(-1).view(-1,1) + np.arange(num_virtual_tokens) if emotions[begin_idx:j] else torch.tensor([])\n",
    "\n",
    "            # concatenate the prompt tokens and pad them in between to match the length of the utterance\n",
    "            output_emotion = torch.tensor([])\n",
    "            emotion_idx = begin_idx\n",
    "            padding_max_length = max_length-num_virtual_tokens\n",
    "            for pt in prompt_tokens:\n",
    "                pt = torch.cat([pt, torch.full((min(utterances[emotion_idx].shape[-1], padding_max_length),), emotion_padding_token_id, dtype=torch.long)], dim=0)\n",
    "                output_emotion = torch.cat([output_emotion, pt], dim=0)\n",
    "                emotion_idx+=1\n",
    "            # set token id to padding id if it is out of range\n",
    "            output_emotion[output_emotion > emotion_padding_token_id] = emotion_padding_token_id\n",
    "            output_prompt = torch.cat([output_emotion, torch.full((max_length - output_emotion.shape[-1],), emotion_padding_token_id, dtype=torch.long)], dim=0)\n",
    "            output_prompt = output_prompt.to(torch.long)\n",
    "\n",
    "            # if output_utterance.shape[-1] != max_length or output_emotion.shape[-1] != max_length, raise ValueError\n",
    "            if output_utterance.shape[-1] != max_length:\n",
    "                raise ValueError(f\"output_utterance shape: {output_utterance.shape[-1]} != max_length: {max_length}\")\n",
    "            if output_prompt.shape[-1] != max_length:\n",
    "                raise ValueError(f\"output_emotion shape: {output_prompt.shape[-1]} != max_length: {max_length}\")\n",
    "\n",
    "            output[\"UtteranceID\"].append(output_utterance)\n",
    "            output[\"EmotionID\"].append(output_prompt)\n",
    "            output[\"AttentionMask\"].append(output_attention_mask)\n",
    "            output[\"Label\"].append(output_label)\n",
    "    return output\n",
    "\n",
    "\n",
    "utterance_padding_token_id = tokenizer.pad_token_id\n",
    "emotion_padding_token_id = model.prompt_encoder[\"default\"].padding_idx\n",
    "\n",
    "dialogue_train_df_processed = dialogue_process_function(dialogue_train_df, max_length=max_length, utterance_padding_token_id=utterance_padding_token_id, emotion_padding_token_id=emotion_padding_token_id, query_id=query_id, num_virtual_tokens=num_virtual_tokens)\n",
    "dialogue_train_df_processed = Dataset.from_dict(dialogue_train_df_processed).with_format(\"torch\")\n",
    "dialogue_eval_df_processed = dialogue_process_function(dialogue_eval_df, max_length=max_length, utterance_padding_token_id=utterance_padding_token_id, emotion_padding_token_id=emotion_padding_token_id, query_id=query_id, num_virtual_tokens=num_virtual_tokens)\n",
    "dialogue_eval_df_processed = Dataset.from_dict(dialogue_eval_df_processed).with_format(\"torch\")\n",
    "\n",
    "\n",
    "train_dataloader = DataLoader(\n",
    "    dataset=dialogue_train_df_processed,\n",
    "    batch_size=batch_size,\n",
    "    shuffle=True,\n",
    "    # collate_fn=default_data_collator,\n",
    ")\n",
    "eval_dataloader = DataLoader(\n",
    "    dataset=dialogue_eval_df_processed,\n",
    "    batch_size=batch_size,\n",
    "    shuffle=False,\n",
    "    collate_fn=default_data_collator,\n",
    ")\n"
   ]
  },
  {
   "cell_type": "code",
   "execution_count": 115,
   "metadata": {},
   "outputs": [
    {
     "name": "stdout",
     "output_type": "stream",
     "text": [
      "neutral: 4710 (47.15186705375913%)\n",
      "surprise: 1205 (12.063269596556212%)\n",
      "fear: 268 (2.682951246371008%)\n",
      "sadness: 683 (6.837521273400741%)\n",
      "joy: 1743 (17.44919411352488%)\n",
      "disgust: 271 (2.7129842827109822%)\n",
      "anger: 1109 (11.102212433677044%)\n"
     ]
    }
   ],
   "source": [
    "# check the proportion of each label\n",
    "num_labels={tokens:0 for tokens in emotion_token_to_id}\n",
    "for data in dialogue_train_df_processed:\n",
    "    label = tuple(data[\"Label\"].tolist())\n",
    "    num_labels[label]+=1\n",
    "\n",
    "num_sample_min = min(num_labels.values())\n",
    "CELoss_weight = torch.ones(model.base_model.config.vocab_size)\n",
    "for tokens in num_labels:\n",
    "    id = emotion_token_to_id[tokens]\n",
    "    name = emotion_id_to_name[id]\n",
    "    print(f\"{name}: {num_labels[tokens]} ({num_labels[tokens]*100/len(dialogue_train_df_processed)}%)\")\n",
    "    for token in tokens[:-1]:\n",
    "        CELoss_weight[token] = num_sample_min/num_labels[tokens]\n",
    "CELoss_weight = CELoss_weight.to(device)"
   ]
  },
  {
   "cell_type": "markdown",
   "metadata": {},
   "source": [
    "# Train"
   ]
  },
  {
   "cell_type": "code",
   "execution_count": 9,
   "metadata": {},
   "outputs": [],
   "source": [
    "# # training with huggingface trainer\n",
    "# # not applicable, as we need input for prompt encoder\n",
    "# from transformers import Seq2SeqTrainer, Seq2SeqTrainingArguments\n",
    "# output_dir = f\"results/{model_name_or_path.split('/')[-1]}-peft/lr_{lr}-epochs_{num_epochs}-batch_{batch_size}\"\n",
    "# training_args = Seq2SeqTrainingArguments(\n",
    "#     output_dir=output_dir,\n",
    "#     do_train=do_train,\n",
    "#     do_eval=do_eval,\n",
    "\n",
    "#     per_device_train_batch_size=batch_size,\n",
    "#     per_device_eval_batch_size=batch_size,\n",
    "#     learning_rate=lr,\n",
    "#     warmup_ratio=warmup_ratio,\n",
    "#     weight_decay=weight_decay,\n",
    "#     num_train_epochs=num_epochs,\n",
    "    \n",
    "#     logging_strategy=\"steps\",\n",
    "#     logging_steps=logging_steps,\n",
    "#     eval_strategy=\"steps\",\n",
    "#     eval_steps = eval_steps,\n",
    "#     save_strategy=\"steps\",\n",
    "#     save_steps=save_steps,\n",
    "#     save_total_limit=2,\n",
    "\n",
    "#     predict_with_generate=True,\n",
    "#     load_best_model_at_end=True,\n",
    "# )\n",
    "# trainer = Seq2SeqTrainer(\n",
    "#     model=model,\n",
    "#     args=training_args,\n",
    "#     train_dataset=dialogue_train_df_processed,\n",
    "#     eval_dataset=dialogue_eval_df_processed,\n",
    "#     tokenizer=tokenizer,\n",
    "#     data_collator=default_data_collator,\n",
    "# )\n"
   ]
  },
  {
   "cell_type": "code",
   "execution_count": null,
   "metadata": {},
   "outputs": [
    {
     "data": {
      "application/vnd.jupyter.widget-view+json": {
       "model_id": "9117b99b35a3488689c3154acc9c4a31",
       "version_major": 2,
       "version_minor": 0
      },
      "text/plain": [
       " epoch loop:   0%|          | 0/20 [00:00<?, ?it/s]"
      ]
     },
     "metadata": {},
     "output_type": "display_data"
    },
    {
     "data": {
      "application/vnd.jupyter.widget-view+json": {
       "model_id": "a5c741e7d25b4d2a8ef5c176df2b9087",
       "version_major": 2,
       "version_minor": 0
      },
      "text/plain": [
       " inner loop:   0%|          | 0/500 [00:00<?, ?it/s]"
      ]
     },
     "metadata": {},
     "output_type": "display_data"
    },
    {
     "data": {
      "application/vnd.jupyter.widget-view+json": {
       "model_id": "44e5daed10b245208092f2d91177a706",
       "version_major": 2,
       "version_minor": 0
      },
      "text/plain": [
       "Eval loop:   0%|          | 0/56 [00:00<?, ?it/s]"
      ]
     },
     "metadata": {},
     "output_type": "display_data"
    },
    {
     "name": "stdout",
     "output_type": "stream",
     "text": [
      "cur_step: 250\n",
      "  loss: tensor(0.4364, device='cuda:0')\n",
      "  recall: {0: 0.10638297872340426, 1: 0.26666666666666666, 2: 0.325, 3: 0.5495495495495496, 4: 0.6748466257668712, 5: 0.36363636363636365, 6: 0.39869281045751637}\n",
      "  precision: {0: 0.8064516129032258, 1: 0.4166666666666667, 2: 0.19117647058823528, 3: 0.30198019801980197, 4: 0.2777777777777778, 5: 0.061068702290076333, 6: 0.3961038961038961}\n",
      "  F1_score: {0: 0.1879699248120301, 1: 0.3252032520325203, 2: 0.24074074074074078, 3: 0.3897763578274761, 4: 0.3935599284436494, 5: 0.1045751633986928, 6: 0.3973941368078176}\n",
      "  macro_F1_score: 0.29131707200898965\n",
      "==========================================================================================\n",
      "Model saved to results/t5-base-peft/lr_0.001-epochs_20-batch_20 with F1 score: 0.29131707200898965\n"
     ]
    },
    {
     "data": {
      "application/vnd.jupyter.widget-view+json": {
       "model_id": "7d5244d6857343709f141959a47aa441",
       "version_major": 2,
       "version_minor": 0
      },
      "text/plain": [
       "Eval loop:   0%|          | 0/56 [00:00<?, ?it/s]"
      ]
     },
     "metadata": {},
     "output_type": "display_data"
    },
    {
     "name": "stdout",
     "output_type": "stream",
     "text": [
      "cur_step: 500\n",
      "  loss: tensor(0.1496, device='cuda:0')\n",
      "  recall: {0: 0.19787234042553192, 1: 0.5133333333333333, 2: 0.25, 3: 0.5945945945945946, 4: 0.43558282208588955, 5: 0.3181818181818182, 6: 0.42483660130718953}\n",
      "  precision: {0: 0.768595041322314, 1: 0.3092369477911647, 2: 0.15873015873015872, 3: 0.2661290322580645, 4: 0.3622448979591837, 5: 0.0945945945945946, 6: 0.41139240506329117}\n",
      "  F1_score: {0: 0.31472081218274117, 1: 0.3859649122807018, 2: 0.1941747572815534, 3: 0.3676880222841225, 4: 0.3955431754874652, 5: 0.14583333333333334, 6: 0.4180064308681672}\n",
      "  macro_F1_score: 0.3174187776740121\n",
      "==========================================================================================\n",
      "Model saved to results/t5-base-peft/lr_0.001-epochs_20-batch_20 with F1 score: 0.3174187776740121\n"
     ]
    },
    {
     "data": {
      "application/vnd.jupyter.widget-view+json": {
       "model_id": "917df85985814795986313a388385787",
       "version_major": 2,
       "version_minor": 0
      },
      "text/plain": [
       " inner loop:   0%|          | 0/500 [00:00<?, ?it/s]"
      ]
     },
     "metadata": {},
     "output_type": "display_data"
    },
    {
     "data": {
      "application/vnd.jupyter.widget-view+json": {
       "model_id": "002794d2f7b44f80bc1aad707c424ae5",
       "version_major": 2,
       "version_minor": 0
      },
      "text/plain": [
       "Eval loop:   0%|          | 0/56 [00:00<?, ?it/s]"
      ]
     },
     "metadata": {},
     "output_type": "display_data"
    },
    {
     "name": "stdout",
     "output_type": "stream",
     "text": [
      "cur_step: 750\n",
      "  loss: tensor(0.2482, device='cuda:0')\n",
      "  recall: {0: 0.20425531914893616, 1: 0.5066666666666667, 2: 0.275, 3: 0.44144144144144143, 4: 0.38650306748466257, 5: 0.2727272727272727, 6: 0.5032679738562091}\n",
      "  precision: {0: 0.7272727272727273, 1: 0.2783882783882784, 2: 0.10377358490566038, 3: 0.3333333333333333, 4: 0.3620689655172414, 5: 0.07317073170731707, 6: 0.39487179487179486}\n",
      "  F1_score: {0: 0.31893687707641194, 1: 0.35933806146572106, 2: 0.15068493150684933, 3: 0.37984496124031003, 4: 0.3738872403560831, 5: 0.11538461538461536, 6: 0.4425287356321839}\n",
      "  macro_F1_score: 0.305800774666025\n",
      "==========================================================================================\n"
     ]
    },
    {
     "data": {
      "application/vnd.jupyter.widget-view+json": {
       "model_id": "1c50dcee409e451bb6d2db1ad0d453d8",
       "version_major": 2,
       "version_minor": 0
      },
      "text/plain": [
       "Eval loop:   0%|          | 0/56 [00:00<?, ?it/s]"
      ]
     },
     "metadata": {},
     "output_type": "display_data"
    },
    {
     "name": "stdout",
     "output_type": "stream",
     "text": [
      "cur_step: 1000\n",
      "  loss: tensor(0.3133, device='cuda:0')\n",
      "  recall: {0: 0.09361702127659574, 1: 0.32666666666666666, 2: 0.425, 3: 0.5045045045045045, 4: 0.3987730061349693, 5: 0.5, 6: 0.41830065359477125}\n",
      "  precision: {0: 0.7457627118644068, 1: 0.3858267716535433, 2: 0.08762886597938144, 3: 0.3181818181818182, 4: 0.34946236559139787, 5: 0.05339805825242718, 6: 0.39751552795031053}\n",
      "  F1_score: {0: 0.16635160680529298, 1: 0.35379061371841153, 2: 0.1452991452991453, 3: 0.3902439024390244, 4: 0.37249283667621774, 5: 0.09649122807017543, 6: 0.40764331210191085}\n",
      "  macro_F1_score: 0.27604466358716834\n",
      "==========================================================================================\n"
     ]
    },
    {
     "data": {
      "application/vnd.jupyter.widget-view+json": {
       "model_id": "d51e10640845406d8d65bd75b79565b6",
       "version_major": 2,
       "version_minor": 0
      },
      "text/plain": [
       " inner loop:   0%|          | 0/500 [00:00<?, ?it/s]"
      ]
     },
     "metadata": {},
     "output_type": "display_data"
    },
    {
     "data": {
      "application/vnd.jupyter.widget-view+json": {
       "model_id": "86559f54a26144fb88365ba6547e83c0",
       "version_major": 2,
       "version_minor": 0
      },
      "text/plain": [
       "Eval loop:   0%|          | 0/56 [00:00<?, ?it/s]"
      ]
     },
     "metadata": {},
     "output_type": "display_data"
    },
    {
     "name": "stdout",
     "output_type": "stream",
     "text": [
      "cur_step: 1250\n",
      "  loss: tensor(0.4550, device='cuda:0')\n",
      "  recall: {0: 0.08085106382978724, 1: 0.24, 2: 0.825, 3: 0.40540540540540543, 4: 0.3312883435582822, 5: 0.22727272727272727, 6: 0.38562091503267976}\n",
      "  precision: {0: 0.8260869565217391, 1: 0.5454545454545454, 2: 0.06, 3: 0.32608695652173914, 4: 0.43902439024390244, 5: 0.14285714285714285, 6: 0.39072847682119205}\n",
      "  F1_score: {0: 0.14728682170542637, 1: 0.3333333333333333, 2: 0.111864406779661, 3: 0.3614457831325302, 4: 0.3776223776223776, 5: 0.17543859649122806, 6: 0.38815789473684215}\n",
      "  macro_F1_score: 0.2707356019716284\n",
      "==========================================================================================\n"
     ]
    },
    {
     "data": {
      "application/vnd.jupyter.widget-view+json": {
       "model_id": "2ba0a7276afc4ae2ba7afaf83272828f",
       "version_major": 2,
       "version_minor": 0
      },
      "text/plain": [
       "Eval loop:   0%|          | 0/56 [00:00<?, ?it/s]"
      ]
     },
     "metadata": {},
     "output_type": "display_data"
    },
    {
     "name": "stdout",
     "output_type": "stream",
     "text": [
      "cur_step: 1500\n",
      "  loss: tensor(0.2625, device='cuda:0')\n",
      "  recall: {0: 0.11702127659574468, 1: 0.6, 2: 0.35, 3: 0.2972972972972973, 4: 0.4233128834355828, 5: 0.2727272727272727, 6: 0.4444444444444444}\n",
      "  precision: {0: 0.7857142857142857, 1: 0.28846153846153844, 2: 0.09859154929577464, 3: 0.44594594594594594, 4: 0.3556701030927835, 5: 0.04054054054054054, 6: 0.40236686390532544}\n",
      "  F1_score: {0: 0.20370370370370372, 1: 0.3896103896103896, 2: 0.15384615384615385, 3: 0.35675675675675683, 4: 0.38655462184873945, 5: 0.07058823529411765, 6: 0.42236024844720493}\n",
      "  macro_F1_score: 0.28334572992958085\n",
      "==========================================================================================\n"
     ]
    },
    {
     "data": {
      "application/vnd.jupyter.widget-view+json": {
       "model_id": "e822c77adf1e4b0389e867e8b5aba905",
       "version_major": 2,
       "version_minor": 0
      },
      "text/plain": [
       " inner loop:   0%|          | 0/500 [00:00<?, ?it/s]"
      ]
     },
     "metadata": {},
     "output_type": "display_data"
    },
    {
     "data": {
      "application/vnd.jupyter.widget-view+json": {
       "model_id": "5a769568ef294e0b964bd4cf19185ac8",
       "version_major": 2,
       "version_minor": 0
      },
      "text/plain": [
       "Eval loop:   0%|          | 0/56 [00:00<?, ?it/s]"
      ]
     },
     "metadata": {},
     "output_type": "display_data"
    },
    {
     "name": "stdout",
     "output_type": "stream",
     "text": [
      "cur_step: 1750\n",
      "  loss: tensor(0.2142, device='cuda:0')\n",
      "  recall: {0: 0.16808510638297872, 1: 0.5733333333333334, 2: 0.2, 3: 0.40540540540540543, 4: 0.4539877300613497, 5: 0.2727272727272727, 6: 0.35294117647058826}\n",
      "  precision: {0: 0.7821782178217822, 1: 0.32575757575757575, 2: 0.16326530612244897, 3: 0.42857142857142855, 4: 0.31223628691983124, 5: 0.026905829596412557, 6: 0.4153846153846154}\n",
      "  F1_score: {0: 0.276707530647986, 1: 0.41545893719806765, 2: 0.17977528089887637, 3: 0.4166666666666667, 4: 0.37, 5: 0.04897959183673469, 6: 0.38162544169611307}\n",
      "  macro_F1_score: 0.2984590641349206\n",
      "==========================================================================================\n"
     ]
    },
    {
     "data": {
      "application/vnd.jupyter.widget-view+json": {
       "model_id": "8f7abf90d8e348d59fc62e0b0d427ff1",
       "version_major": 2,
       "version_minor": 0
      },
      "text/plain": [
       "Eval loop:   0%|          | 0/56 [00:00<?, ?it/s]"
      ]
     },
     "metadata": {},
     "output_type": "display_data"
    },
    {
     "name": "stdout",
     "output_type": "stream",
     "text": [
      "cur_step: 2000\n",
      "  loss: tensor(0.1672, device='cuda:0')\n",
      "  recall: {0: 0.28936170212765955, 1: 0.6866666666666666, 2: 0.3, 3: 0.4594594594594595, 4: 0.39263803680981596, 5: 0.22727272727272727, 6: 0.1568627450980392}\n",
      "  precision: {0: 0.7597765363128491, 1: 0.2724867724867725, 2: 0.10526315789473684, 3: 0.3355263157894737, 4: 0.3595505617977528, 5: 0.07246376811594203, 6: 0.6153846153846154}\n",
      "  F1_score: {0: 0.4191063174114021, 1: 0.39015151515151514, 2: 0.1558441558441558, 3: 0.3878326996197719, 4: 0.375366568914956, 5: 0.10989010989010989, 6: 0.25}\n",
      "  macro_F1_score: 0.2983130524045587\n",
      "==========================================================================================\n"
     ]
    },
    {
     "data": {
      "application/vnd.jupyter.widget-view+json": {
       "model_id": "0edd4834c61d42e5bb2f5d48a76d5c17",
       "version_major": 2,
       "version_minor": 0
      },
      "text/plain": [
       " inner loop:   0%|          | 0/500 [00:00<?, ?it/s]"
      ]
     },
     "metadata": {},
     "output_type": "display_data"
    },
    {
     "data": {
      "application/vnd.jupyter.widget-view+json": {
       "model_id": "ff021afae06349fd992830ee17c74131",
       "version_major": 2,
       "version_minor": 0
      },
      "text/plain": [
       "Eval loop:   0%|          | 0/56 [00:00<?, ?it/s]"
      ]
     },
     "metadata": {},
     "output_type": "display_data"
    },
    {
     "name": "stdout",
     "output_type": "stream",
     "text": [
      "cur_step: 2250\n",
      "  loss: tensor(0.3372, device='cuda:0')\n",
      "  recall: {0: 0.3382978723404255, 1: 0.64, 2: 0.35, 3: 0.40540540540540543, 4: 0.34355828220858897, 5: 0.22727272727272727, 6: 0.47058823529411764}\n",
      "  precision: {0: 0.7464788732394366, 1: 0.34657039711191334, 2: 0.175, 3: 0.40540540540540543, 4: 0.4409448818897638, 5: 0.2777777777777778, 6: 0.4260355029585799}\n",
      "  F1_score: {0: 0.46559297218155205, 1: 0.4496487119437939, 2: 0.23333333333333334, 3: 0.40540540540540543, 4: 0.38620689655172413, 5: 0.25, 6: 0.44720496894409933}\n",
      "  macro_F1_score: 0.37677032690855833\n",
      "==========================================================================================\n",
      "Model saved to results/t5-base-peft/lr_0.001-epochs_20-batch_20 with F1 score: 0.37677032690855833\n"
     ]
    },
    {
     "data": {
      "application/vnd.jupyter.widget-view+json": {
       "model_id": "7d4b453006e8428c8ca276baf0eccf21",
       "version_major": 2,
       "version_minor": 0
      },
      "text/plain": [
       "Eval loop:   0%|          | 0/56 [00:00<?, ?it/s]"
      ]
     },
     "metadata": {},
     "output_type": "display_data"
    },
    {
     "name": "stdout",
     "output_type": "stream",
     "text": [
      "cur_step: 2500\n",
      "  loss: tensor(0.7607, device='cuda:0')\n",
      "  recall: {0: 0.010638297872340425, 1: 0.32, 2: 0.375, 3: 0.5315315315315315, 4: 0.49079754601226994, 5: 0.18181818181818182, 6: 0.49673202614379086}\n",
      "  precision: {0: 0.5, 1: 0.23880597014925373, 2: 0.17857142857142858, 3: 0.2744186046511628, 4: 0.25559105431309903, 5: 0.06153846153846154, 6: 0.3671497584541063}\n",
      "  F1_score: {0: 0.020833333333333336, 1: 0.27350427350427353, 2: 0.24193548387096772, 3: 0.36196319018404904, 4: 0.3361344537815125, 5: 0.09195402298850576, 6: 0.4222222222222222}\n",
      "  macro_F1_score: 0.24979242569783774\n",
      "==========================================================================================\n"
     ]
    },
    {
     "data": {
      "application/vnd.jupyter.widget-view+json": {
       "model_id": "af1f7ed7c67146e5aafabec2cae3e1a0",
       "version_major": 2,
       "version_minor": 0
      },
      "text/plain": [
       " inner loop:   0%|          | 0/500 [00:00<?, ?it/s]"
      ]
     },
     "metadata": {},
     "output_type": "display_data"
    },
    {
     "data": {
      "application/vnd.jupyter.widget-view+json": {
       "model_id": "e971f7136a324e4bbef65634d4268b05",
       "version_major": 2,
       "version_minor": 0
      },
      "text/plain": [
       "Eval loop:   0%|          | 0/56 [00:00<?, ?it/s]"
      ]
     },
     "metadata": {},
     "output_type": "display_data"
    },
    {
     "name": "stdout",
     "output_type": "stream",
     "text": [
      "cur_step: 2750\n",
      "  loss: tensor(0.4415, device='cuda:0')\n",
      "  recall: {0: 0.13617021276595745, 1: 0.52, 2: 0.225, 3: 0.4594594594594595, 4: 0.7239263803680982, 5: 0.2727272727272727, 6: 0.39215686274509803}\n",
      "  precision: {0: 0.8311688311688312, 1: 0.33476394849785407, 2: 0.09183673469387756, 3: 0.3984375, 4: 0.2942643391521197, 5: 0.18181818181818182, 6: 0.4316546762589928}\n",
      "  F1_score: {0: 0.23400365630712983, 1: 0.4073107049608355, 2: 0.13043478260869565, 3: 0.4267782426778243, 4: 0.4184397163120568, 5: 0.21818181818181817, 6: 0.4109589041095891}\n",
      "  macro_F1_score: 0.3208725464511356\n",
      "==========================================================================================\n"
     ]
    },
    {
     "data": {
      "application/vnd.jupyter.widget-view+json": {
       "model_id": "85d42f37a789420a954289236748964f",
       "version_major": 2,
       "version_minor": 0
      },
      "text/plain": [
       "Eval loop:   0%|          | 0/56 [00:00<?, ?it/s]"
      ]
     },
     "metadata": {},
     "output_type": "display_data"
    },
    {
     "name": "stdout",
     "output_type": "stream",
     "text": [
      "cur_step: 3000\n",
      "  loss: tensor(0.3582, device='cuda:0')\n",
      "  recall: {0: 0.13404255319148936, 1: 0.5866666666666667, 2: 0.3, 3: 0.5675675675675675, 4: 0.5276073619631901, 5: 0.18181818181818182, 6: 0.47058823529411764}\n",
      "  precision: {0: 0.8076923076923077, 1: 0.3548387096774194, 2: 0.13636363636363635, 3: 0.25609756097560976, 4: 0.35684647302904565, 5: 0.13793103448275862, 6: 0.4022346368715084}\n",
      "  F1_score: {0: 0.22992700729927007, 1: 0.44221105527638194, 2: 0.18749999999999997, 3: 0.3529411764705882, 4: 0.42574257425742573, 5: 0.1568627450980392, 6: 0.43373493975903615}\n",
      "  macro_F1_score: 0.3184170711658202\n",
      "==========================================================================================\n"
     ]
    },
    {
     "data": {
      "application/vnd.jupyter.widget-view+json": {
       "model_id": "08e67d2f15c24b7fa36548fca92085dd",
       "version_major": 2,
       "version_minor": 0
      },
      "text/plain": [
       " inner loop:   0%|          | 0/500 [00:00<?, ?it/s]"
      ]
     },
     "metadata": {},
     "output_type": "display_data"
    },
    {
     "data": {
      "application/vnd.jupyter.widget-view+json": {
       "model_id": "2560a18e147444deb9adaea1e51c04dc",
       "version_major": 2,
       "version_minor": 0
      },
      "text/plain": [
       "Eval loop:   0%|          | 0/56 [00:00<?, ?it/s]"
      ]
     },
     "metadata": {},
     "output_type": "display_data"
    },
    {
     "name": "stdout",
     "output_type": "stream",
     "text": [
      "cur_step: 3250\n",
      "  loss: tensor(0.2326, device='cuda:0')\n",
      "  recall: {0: 0.2297872340425532, 1: 0.4066666666666667, 2: 0.575, 3: 0.5945945945945946, 4: 0.5766871165644172, 5: 0.18181818181818182, 6: 0.3790849673202614}\n",
      "  precision: {0: 0.8, 1: 0.4206896551724138, 2: 0.11386138613861387, 3: 0.3333333333333333, 4: 0.35471698113207545, 5: 0.13333333333333333, 6: 0.43283582089552236}\n",
      "  F1_score: {0: 0.3570247933884298, 1: 0.41355932203389834, 2: 0.1900826446280992, 3: 0.42718446601941745, 4: 0.4392523364485981, 5: 0.15384615384615383, 6: 0.40418118466898956}\n",
      "  macro_F1_score: 0.3407329858619409\n",
      "==========================================================================================\n"
     ]
    },
    {
     "data": {
      "application/vnd.jupyter.widget-view+json": {
       "model_id": "74f53ea741c84caf982410e94f84c06c",
       "version_major": 2,
       "version_minor": 0
      },
      "text/plain": [
       "Eval loop:   0%|          | 0/56 [00:00<?, ?it/s]"
      ]
     },
     "metadata": {},
     "output_type": "display_data"
    },
    {
     "name": "stdout",
     "output_type": "stream",
     "text": [
      "cur_step: 3500\n",
      "  loss: tensor(0.1401, device='cuda:0')\n",
      "  recall: {0: 0.19787234042553192, 1: 0.64, 2: 0.45, 3: 0.42342342342342343, 4: 0.5644171779141104, 5: 0.18181818181818182, 6: 0.24836601307189543}\n",
      "  precision: {0: 0.775, 1: 0.3333333333333333, 2: 0.09473684210526316, 3: 0.3643410852713178, 4: 0.3250883392226148, 5: 0.23529411764705882, 6: 0.4634146341463415}\n",
      "  F1_score: {0: 0.3152542372881356, 1: 0.4383561643835616, 2: 0.1565217391304348, 3: 0.39166666666666666, 4: 0.41255605381165916, 5: 0.20512820512820512, 6: 0.32340425531914896}\n",
      "  macro_F1_score: 0.32041247453254457\n",
      "==========================================================================================\n"
     ]
    },
    {
     "data": {
      "application/vnd.jupyter.widget-view+json": {
       "model_id": "c7f9e4857c584207a801ac6509fb3708",
       "version_major": 2,
       "version_minor": 0
      },
      "text/plain": [
       " inner loop:   0%|          | 0/500 [00:00<?, ?it/s]"
      ]
     },
     "metadata": {},
     "output_type": "display_data"
    },
    {
     "data": {
      "application/vnd.jupyter.widget-view+json": {
       "model_id": "c5f343356fba4e67afcbb089e8baf28c",
       "version_major": 2,
       "version_minor": 0
      },
      "text/plain": [
       "Eval loop:   0%|          | 0/56 [00:00<?, ?it/s]"
      ]
     },
     "metadata": {},
     "output_type": "display_data"
    },
    {
     "name": "stdout",
     "output_type": "stream",
     "text": [
      "cur_step: 3750\n",
      "  loss: tensor(0.2426, device='cuda:0')\n",
      "  recall: {0: 0.251063829787234, 1: 0.5666666666666667, 2: 0.4, 3: 0.5765765765765766, 4: 0.4785276073619632, 5: 0.2727272727272727, 6: 0.43137254901960786}\n",
      "  precision: {0: 0.7972972972972973, 1: 0.38288288288288286, 2: 0.17777777777777778, 3: 0.29906542056074764, 4: 0.3644859813084112, 5: 0.08955223880597014, 6: 0.42857142857142855}\n",
      "  F1_score: {0: 0.38187702265372164, 1: 0.4569892473118279, 2: 0.24615384615384614, 3: 0.39384615384615385, 4: 0.4137931034482758, 5: 0.1348314606741573, 6: 0.4299674267100977}\n",
      "  macro_F1_score: 0.3510654658282971\n",
      "==========================================================================================\n"
     ]
    },
    {
     "data": {
      "application/vnd.jupyter.widget-view+json": {
       "model_id": "3c85e9fd000749a6aa247cfa439ac144",
       "version_major": 2,
       "version_minor": 0
      },
      "text/plain": [
       "Eval loop:   0%|          | 0/56 [00:00<?, ?it/s]"
      ]
     },
     "metadata": {},
     "output_type": "display_data"
    },
    {
     "name": "stdout",
     "output_type": "stream",
     "text": [
      "cur_step: 4000\n",
      "  loss: tensor(0.2053, device='cuda:0')\n",
      "  recall: {0: 0.23191489361702128, 1: 0.6933333333333334, 2: 0.25, 3: 0.46846846846846846, 4: 0.4662576687116564, 5: 0.2727272727272727, 6: 0.43137254901960786}\n",
      "  precision: {0: 0.8014705882352942, 1: 0.3466666666666667, 2: 0.17543859649122806, 3: 0.30952380952380953, 4: 0.38578680203045684, 5: 0.06976744186046512, 6: 0.4}\n",
      "  F1_score: {0: 0.35973597359735976, 1: 0.46222222222222226, 2: 0.20618556701030927, 3: 0.3727598566308244, 4: 0.42222222222222217, 5: 0.11111111111111109, 6: 0.41509433962264153}\n",
      "  macro_F1_score: 0.3356187560595272\n",
      "==========================================================================================\n"
     ]
    },
    {
     "data": {
      "application/vnd.jupyter.widget-view+json": {
       "model_id": "040ffafe6dce4f64817027a59e4287fa",
       "version_major": 2,
       "version_minor": 0
      },
      "text/plain": [
       " inner loop:   0%|          | 0/500 [00:00<?, ?it/s]"
      ]
     },
     "metadata": {},
     "output_type": "display_data"
    },
    {
     "data": {
      "application/vnd.jupyter.widget-view+json": {
       "model_id": "649b84e27af742dd8839089443433250",
       "version_major": 2,
       "version_minor": 0
      },
      "text/plain": [
       "Eval loop:   0%|          | 0/56 [00:00<?, ?it/s]"
      ]
     },
     "metadata": {},
     "output_type": "display_data"
    },
    {
     "name": "stdout",
     "output_type": "stream",
     "text": [
      "cur_step: 4250\n",
      "  loss: tensor(0.2789, device='cuda:0')\n",
      "  recall: {0: 0.19574468085106383, 1: 0.5466666666666666, 2: 0.4, 3: 0.5045045045045045, 4: 0.5521472392638037, 5: 0.22727272727272727, 6: 0.40522875816993464}\n",
      "  precision: {0: 0.8214285714285714, 1: 0.3416666666666667, 2: 0.10666666666666667, 3: 0.29473684210526313, 4: 0.36585365853658536, 5: 0.13157894736842105, 6: 0.46616541353383456}\n",
      "  F1_score: {0: 0.3161512027491409, 1: 0.4205128205128205, 2: 0.16842105263157894, 3: 0.37209302325581395, 4: 0.4400977995110025, 5: 0.16666666666666666, 6: 0.43356643356643354}\n",
      "  macro_F1_score: 0.3310727141276367\n",
      "==========================================================================================\n"
     ]
    },
    {
     "data": {
      "application/vnd.jupyter.widget-view+json": {
       "model_id": "7eb58ae3348840c3af65ed4bbabc68e2",
       "version_major": 2,
       "version_minor": 0
      },
      "text/plain": [
       "Eval loop:   0%|          | 0/56 [00:00<?, ?it/s]"
      ]
     },
     "metadata": {},
     "output_type": "display_data"
    },
    {
     "name": "stdout",
     "output_type": "stream",
     "text": [
      "cur_step: 4500\n",
      "  loss: tensor(0.2765, device='cuda:0')\n",
      "  recall: {0: 0.08297872340425531, 1: 0.5866666666666667, 2: 0.3, 3: 0.5675675675675675, 4: 0.5828220858895705, 5: 0.18181818181818182, 6: 0.42483660130718953}\n",
      "  precision: {0: 0.8297872340425532, 1: 0.3562753036437247, 2: 0.16216216216216217, 3: 0.24324324324324326, 4: 0.3345070422535211, 5: 0.12903225806451613, 6: 0.38922155688622756}\n",
      "  F1_score: {0: 0.15087040618955513, 1: 0.44332493702770776, 2: 0.2105263157894737, 3: 0.34054054054054056, 4: 0.4250559284116331, 5: 0.1509433962264151, 6: 0.40624999999999994}\n",
      "  macro_F1_score: 0.30393021774076073\n",
      "==========================================================================================\n"
     ]
    },
    {
     "data": {
      "application/vnd.jupyter.widget-view+json": {
       "model_id": "dd47b676722c40c89ac34bc713325507",
       "version_major": 2,
       "version_minor": 0
      },
      "text/plain": [
       " inner loop:   0%|          | 0/500 [00:00<?, ?it/s]"
      ]
     },
     "metadata": {},
     "output_type": "display_data"
    },
    {
     "data": {
      "application/vnd.jupyter.widget-view+json": {
       "model_id": "238fdae9c708421c8561b2a41bf839c3",
       "version_major": 2,
       "version_minor": 0
      },
      "text/plain": [
       "Eval loop:   0%|          | 0/56 [00:00<?, ?it/s]"
      ]
     },
     "metadata": {},
     "output_type": "display_data"
    },
    {
     "name": "stdout",
     "output_type": "stream",
     "text": [
      "cur_step: 4750\n",
      "  loss: tensor(0.2450, device='cuda:0')\n",
      "  recall: {0: 0.22127659574468084, 1: 0.62, 2: 0.4, 3: 0.34234234234234234, 4: 0.50920245398773, 5: 0.3181818181818182, 6: 0.41830065359477125}\n",
      "  precision: {0: 0.8062015503875969, 1: 0.3274647887323944, 2: 0.12403100775193798, 3: 0.4367816091954023, 4: 0.3672566371681416, 5: 0.0603448275862069, 6: 0.463768115942029}\n",
      "  F1_score: {0: 0.347245409015025, 1: 0.4285714285714286, 2: 0.1893491124260355, 3: 0.38383838383838387, 4: 0.42673521850899737, 5: 0.10144927536231883, 6: 0.43986254295532645}\n",
      "  macro_F1_score: 0.3310073386682165\n",
      "==========================================================================================\n"
     ]
    },
    {
     "data": {
      "application/vnd.jupyter.widget-view+json": {
       "model_id": "d9f8ac63a2e6460180531d47e8ed28f5",
       "version_major": 2,
       "version_minor": 0
      },
      "text/plain": [
       "Eval loop:   0%|          | 0/56 [00:00<?, ?it/s]"
      ]
     },
     "metadata": {},
     "output_type": "display_data"
    },
    {
     "name": "stdout",
     "output_type": "stream",
     "text": [
      "cur_step: 5000\n",
      "  loss: tensor(0.2992, device='cuda:0')\n",
      "  recall: {0: 0.3, 1: 0.5133333333333333, 2: 0.225, 3: 0.5315315315315315, 4: 0.6257668711656442, 5: 0.2727272727272727, 6: 0.40522875816993464}\n",
      "  precision: {0: 0.7833333333333333, 1: 0.37745098039215685, 2: 0.24324324324324326, 3: 0.31382978723404253, 4: 0.33774834437086093, 5: 0.08333333333333333, 6: 0.49206349206349204}\n",
      "  F1_score: {0: 0.4338461538461538, 1: 0.4350282485875706, 2: 0.23376623376623376, 3: 0.39464882943143814, 4: 0.4387096774193548, 5: 0.1276595744680851, 6: 0.4444444444444444}\n",
      "  macro_F1_score: 0.3583004517090402\n",
      "==========================================================================================\n"
     ]
    },
    {
     "data": {
      "application/vnd.jupyter.widget-view+json": {
       "model_id": "c787e65ea277433bb41370bc52aea014",
       "version_major": 2,
       "version_minor": 0
      },
      "text/plain": [
       " inner loop:   0%|          | 0/500 [00:00<?, ?it/s]"
      ]
     },
     "metadata": {},
     "output_type": "display_data"
    },
    {
     "data": {
      "application/vnd.jupyter.widget-view+json": {
       "model_id": "3b631cdde30647eca11a44baccbeec27",
       "version_major": 2,
       "version_minor": 0
      },
      "text/plain": [
       "Eval loop:   0%|          | 0/56 [00:00<?, ?it/s]"
      ]
     },
     "metadata": {},
     "output_type": "display_data"
    },
    {
     "name": "stdout",
     "output_type": "stream",
     "text": [
      "cur_step: 5250\n",
      "  loss: tensor(0.2123, device='cuda:0')\n",
      "  recall: {0: 0.2574468085106383, 1: 0.5133333333333333, 2: 0.5, 3: 0.2882882882882883, 4: 0.588957055214724, 5: 0.3181818181818182, 6: 0.39869281045751637}\n",
      "  precision: {0: 0.8344827586206897, 1: 0.3869346733668342, 2: 0.08968609865470852, 3: 0.4383561643835616, 4: 0.3622641509433962, 5: 0.07777777777777778, 6: 0.5350877192982456}\n",
      "  F1_score: {0: 0.39349593495934954, 1: 0.44126074498567336, 2: 0.1520912547528517, 3: 0.3478260869565218, 4: 0.4485981308411215, 5: 0.125, 6: 0.45692883895131087}\n",
      "  macro_F1_score: 0.33788585592097553\n",
      "==========================================================================================\n"
     ]
    },
    {
     "data": {
      "application/vnd.jupyter.widget-view+json": {
       "model_id": "2f645b0f9a0446c1a813b0ad32cda87c",
       "version_major": 2,
       "version_minor": 0
      },
      "text/plain": [
       "Eval loop:   0%|          | 0/56 [00:00<?, ?it/s]"
      ]
     },
     "metadata": {},
     "output_type": "display_data"
    },
    {
     "name": "stdout",
     "output_type": "stream",
     "text": [
      "cur_step: 5500\n",
      "  loss: tensor(0.4851, device='cuda:0')\n",
      "  recall: {0: 0.2553191489361702, 1: 0.5866666666666667, 2: 0.225, 3: 0.5855855855855856, 4: 0.558282208588957, 5: 0.3181818181818182, 6: 0.45098039215686275}\n",
      "  precision: {0: 0.7453416149068323, 1: 0.3876651982378855, 2: 0.09782608695652174, 3: 0.2826086956521739, 4: 0.4504950495049505, 5: 0.12962962962962962, 6: 0.4825174825174825}\n",
      "  F1_score: {0: 0.38034865293185416, 1: 0.46684350132625996, 2: 0.13636363636363635, 3: 0.3812316715542522, 4: 0.4986301369863013, 5: 0.1842105263157895, 6: 0.46621621621621623}\n",
      "  macro_F1_score: 0.3591206202420442\n",
      "==========================================================================================\n"
     ]
    },
    {
     "data": {
      "application/vnd.jupyter.widget-view+json": {
       "model_id": "07e2cdae77e54723b7c3b49f3942e0f8",
       "version_major": 2,
       "version_minor": 0
      },
      "text/plain": [
       " inner loop:   0%|          | 0/500 [00:00<?, ?it/s]"
      ]
     },
     "metadata": {},
     "output_type": "display_data"
    },
    {
     "data": {
      "application/vnd.jupyter.widget-view+json": {
       "model_id": "4bd21b4e0971470d8362fbe0d7c458aa",
       "version_major": 2,
       "version_minor": 0
      },
      "text/plain": [
       "Eval loop:   0%|          | 0/56 [00:00<?, ?it/s]"
      ]
     },
     "metadata": {},
     "output_type": "display_data"
    },
    {
     "name": "stdout",
     "output_type": "stream",
     "text": [
      "cur_step: 5750\n",
      "  loss: tensor(0.2225, device='cuda:0')\n",
      "  recall: {0: 0.16170212765957448, 1: 0.4866666666666667, 2: 0.35, 3: 0.3963963963963964, 4: 0.6503067484662577, 5: 0.22727272727272727, 6: 0.47058823529411764}\n",
      "  precision: {0: 0.8444444444444444, 1: 0.35784313725490197, 2: 0.07650273224043716, 3: 0.39285714285714285, 4: 0.35570469798657717, 5: 0.10869565217391304, 6: 0.4090909090909091}\n",
      "  F1_score: {0: 0.2714285714285714, 1: 0.4124293785310735, 2: 0.12556053811659193, 3: 0.3946188340807175, 4: 0.45986984815618215, 5: 0.14705882352941177, 6: 0.4376899696048633}\n",
      "  macro_F1_score: 0.32123656620677304\n",
      "==========================================================================================\n"
     ]
    },
    {
     "data": {
      "application/vnd.jupyter.widget-view+json": {
       "model_id": "6b5b0822a36c489899b7a2ca820da854",
       "version_major": 2,
       "version_minor": 0
      },
      "text/plain": [
       "Eval loop:   0%|          | 0/56 [00:00<?, ?it/s]"
      ]
     },
     "metadata": {},
     "output_type": "display_data"
    },
    {
     "name": "stdout",
     "output_type": "stream",
     "text": [
      "cur_step: 6000\n",
      "  loss: tensor(0.3968, device='cuda:0')\n",
      "  recall: {0: 0.2148936170212766, 1: 0.48, 2: 0.5, 3: 0.5675675675675675, 4: 0.656441717791411, 5: 0.13636363636363635, 6: 0.3660130718954248}\n",
      "  precision: {0: 0.7890625, 1: 0.4090909090909091, 2: 0.17094017094017094, 3: 0.29439252336448596, 4: 0.31750741839762614, 5: 0.1875, 6: 0.4628099173553719}\n",
      "  F1_score: {0: 0.3377926421404683, 1: 0.44171779141104295, 2: 0.25477707006369427, 3: 0.3876923076923076, 4: 0.42800000000000005, 5: 0.15789473684210525, 6: 0.4087591240875912}\n",
      "  macro_F1_score: 0.3452333817481728\n",
      "==========================================================================================\n"
     ]
    },
    {
     "data": {
      "application/vnd.jupyter.widget-view+json": {
       "model_id": "f9c4afc232524e7eaf9c2c6da95bdb23",
       "version_major": 2,
       "version_minor": 0
      },
      "text/plain": [
       " inner loop:   0%|          | 0/500 [00:00<?, ?it/s]"
      ]
     },
     "metadata": {},
     "output_type": "display_data"
    },
    {
     "data": {
      "application/vnd.jupyter.widget-view+json": {
       "model_id": "57a3463eb4524e0ebc862cdaad772e83",
       "version_major": 2,
       "version_minor": 0
      },
      "text/plain": [
       "Eval loop:   0%|          | 0/56 [00:00<?, ?it/s]"
      ]
     },
     "metadata": {},
     "output_type": "display_data"
    },
    {
     "name": "stdout",
     "output_type": "stream",
     "text": [
      "cur_step: 6250\n",
      "  loss: tensor(0.1858, device='cuda:0')\n",
      "  recall: {0: 0.26382978723404255, 1: 0.5533333333333333, 2: 0.35, 3: 0.4594594594594595, 4: 0.5705521472392638, 5: 0.2727272727272727, 6: 0.5294117647058824}\n",
      "  precision: {0: 0.7898089171974523, 1: 0.41089108910891087, 2: 0.10218978102189781, 3: 0.35172413793103446, 4: 0.3891213389121339, 5: 0.18181818181818182, 6: 0.413265306122449}\n",
      "  F1_score: {0: 0.3955342902711324, 1: 0.47159090909090906, 2: 0.1581920903954802, 3: 0.3984375, 4: 0.4626865671641791, 5: 0.21818181818181817, 6: 0.4641833810888252}\n",
      "  macro_F1_score: 0.3669723651703349\n",
      "==========================================================================================\n"
     ]
    },
    {
     "data": {
      "application/vnd.jupyter.widget-view+json": {
       "model_id": "86a2070e24a84aa998740d5afbc20ff5",
       "version_major": 2,
       "version_minor": 0
      },
      "text/plain": [
       "Eval loop:   0%|          | 0/56 [00:00<?, ?it/s]"
      ]
     },
     "metadata": {},
     "output_type": "display_data"
    },
    {
     "name": "stdout",
     "output_type": "stream",
     "text": [
      "cur_step: 6500\n",
      "  loss: tensor(0.4232, device='cuda:0')\n",
      "  recall: {0: 0.30638297872340425, 1: 0.48, 2: 0.475, 3: 0.46846846846846846, 4: 0.6073619631901841, 5: 0.3181818181818182, 6: 0.46405228758169936}\n",
      "  precision: {0: 0.8044692737430168, 1: 0.4, 2: 0.14285714285714285, 3: 0.3611111111111111, 4: 0.376425855513308, 5: 0.1320754716981132, 6: 0.45222929936305734}\n",
      "  F1_score: {0: 0.4437596302003082, 1: 0.4363636363636364, 2: 0.21965317919075142, 3: 0.40784313725490196, 4: 0.4647887323943662, 5: 0.18666666666666665, 6: 0.4580645161290323}\n",
      "  macro_F1_score: 0.37387707117138047\n",
      "==========================================================================================\n"
     ]
    },
    {
     "data": {
      "application/vnd.jupyter.widget-view+json": {
       "model_id": "dc57500de8e9420cad0401edcd06610d",
       "version_major": 2,
       "version_minor": 0
      },
      "text/plain": [
       " inner loop:   0%|          | 0/500 [00:00<?, ?it/s]"
      ]
     },
     "metadata": {},
     "output_type": "display_data"
    },
    {
     "data": {
      "application/vnd.jupyter.widget-view+json": {
       "model_id": "ef7efd7d04564f4591dc69758042ffd5",
       "version_major": 2,
       "version_minor": 0
      },
      "text/plain": [
       "Eval loop:   0%|          | 0/56 [00:00<?, ?it/s]"
      ]
     },
     "metadata": {},
     "output_type": "display_data"
    },
    {
     "name": "stdout",
     "output_type": "stream",
     "text": [
      "cur_step: 6750\n",
      "  loss: tensor(0.2806, device='cuda:0')\n",
      "  recall: {0: 0.23617021276595745, 1: 0.5466666666666666, 2: 0.275, 3: 0.4774774774774775, 4: 0.5950920245398773, 5: 0.22727272727272727, 6: 0.5359477124183006}\n",
      "  precision: {0: 0.8161764705882353, 1: 0.3942307692307692, 2: 0.09482758620689655, 3: 0.34415584415584416, 4: 0.39271255060728744, 5: 0.11904761904761904, 6: 0.39805825242718446}\n",
      "  F1_score: {0: 0.36633663366336633, 1: 0.4581005586592179, 2: 0.141025641025641, 3: 0.4, 4: 0.4731707317073171, 5: 0.15624999999999997, 6: 0.456824512534819}\n",
      "  macro_F1_score: 0.35024401108433734\n",
      "==========================================================================================\n"
     ]
    },
    {
     "data": {
      "application/vnd.jupyter.widget-view+json": {
       "model_id": "76c2295aa7054ace935f8a81ede463dc",
       "version_major": 2,
       "version_minor": 0
      },
      "text/plain": [
       "Eval loop:   0%|          | 0/56 [00:00<?, ?it/s]"
      ]
     },
     "metadata": {},
     "output_type": "display_data"
    },
    {
     "name": "stdout",
     "output_type": "stream",
     "text": [
      "cur_step: 7000\n",
      "  loss: tensor(0.2058, device='cuda:0')\n",
      "  recall: {0: 0.19787234042553192, 1: 0.5466666666666666, 2: 0.4, 3: 0.5765765765765766, 4: 0.5766871165644172, 5: 0.36363636363636365, 6: 0.3660130718954248}\n",
      "  precision: {0: 0.8230088495575221, 1: 0.3744292237442922, 2: 0.1553398058252427, 3: 0.2723404255319149, 4: 0.3671875, 5: 0.12698412698412698, 6: 0.4666666666666667}\n",
      "  F1_score: {0: 0.3190394511149228, 1: 0.4444444444444444, 2: 0.22377622377622375, 3: 0.36994219653179183, 4: 0.4486873508353222, 5: 0.18823529411764706, 6: 0.41025641025641024}\n",
      "  macro_F1_score: 0.3434830530109661\n",
      "==========================================================================================\n"
     ]
    },
    {
     "data": {
      "application/vnd.jupyter.widget-view+json": {
       "model_id": "5e86eb4205ab434687a6957aab939d01",
       "version_major": 2,
       "version_minor": 0
      },
      "text/plain": [
       " inner loop:   0%|          | 0/500 [00:00<?, ?it/s]"
      ]
     },
     "metadata": {},
     "output_type": "display_data"
    },
    {
     "data": {
      "application/vnd.jupyter.widget-view+json": {
       "model_id": "c756dda0c548463dabe6c57f1c3b83a4",
       "version_major": 2,
       "version_minor": 0
      },
      "text/plain": [
       "Eval loop:   0%|          | 0/56 [00:00<?, ?it/s]"
      ]
     },
     "metadata": {},
     "output_type": "display_data"
    },
    {
     "name": "stdout",
     "output_type": "stream",
     "text": [
      "cur_step: 7250\n",
      "  loss: tensor(0.2296, device='cuda:0')\n",
      "  recall: {0: 0.28936170212765955, 1: 0.56, 2: 0.175, 3: 0.45045045045045046, 4: 0.5337423312883436, 5: 0.36363636363636365, 6: 0.4444444444444444}\n",
      "  precision: {0: 0.7953216374269005, 1: 0.36363636363636365, 2: 0.08641975308641975, 3: 0.38461538461538464, 4: 0.4371859296482412, 5: 0.055944055944055944, 6: 0.44155844155844154}\n",
      "  F1_score: {0: 0.4243369734789391, 1: 0.44094488188976383, 2: 0.11570247933884296, 3: 0.41493775933609955, 4: 0.4806629834254144, 5: 0.09696969696969697, 6: 0.4429967426710098}\n",
      "  macro_F1_score: 0.34522164530139526\n",
      "==========================================================================================\n"
     ]
    },
    {
     "data": {
      "application/vnd.jupyter.widget-view+json": {
       "model_id": "1c309c5fb269448291da901d88eaeb3f",
       "version_major": 2,
       "version_minor": 0
      },
      "text/plain": [
       "Eval loop:   0%|          | 0/56 [00:00<?, ?it/s]"
      ]
     },
     "metadata": {},
     "output_type": "display_data"
    },
    {
     "name": "stdout",
     "output_type": "stream",
     "text": [
      "cur_step: 7500\n",
      "  loss: tensor(0.2082, device='cuda:0')\n",
      "  recall: {0: 0.2936170212765957, 1: 0.5733333333333334, 2: 0.375, 3: 0.5135135135135135, 4: 0.6257668711656442, 5: 0.3181818181818182, 6: 0.33986928104575165}\n",
      "  precision: {0: 0.7931034482758621, 1: 0.3788546255506608, 2: 0.15625, 3: 0.3584905660377358, 4: 0.3422818791946309, 5: 0.14893617021276595, 6: 0.48148148148148145}\n",
      "  F1_score: {0: 0.42857142857142855, 1: 0.45623342175066317, 2: 0.22058823529411764, 3: 0.42222222222222217, 4: 0.4425162689804773, 5: 0.20289855072463767, 6: 0.39846743295019155}\n",
      "  macro_F1_score: 0.3673567943562483\n",
      "==========================================================================================\n"
     ]
    },
    {
     "data": {
      "application/vnd.jupyter.widget-view+json": {
       "model_id": "5903e79615884aa8a2fdd36aca74292d",
       "version_major": 2,
       "version_minor": 0
      },
      "text/plain": [
       " inner loop:   0%|          | 0/500 [00:00<?, ?it/s]"
      ]
     },
     "metadata": {},
     "output_type": "display_data"
    },
    {
     "data": {
      "application/vnd.jupyter.widget-view+json": {
       "model_id": "1dc9ff3b1bc145ada2799ceb350eeb50",
       "version_major": 2,
       "version_minor": 0
      },
      "text/plain": [
       "Eval loop:   0%|          | 0/56 [00:00<?, ?it/s]"
      ]
     },
     "metadata": {},
     "output_type": "display_data"
    },
    {
     "name": "stdout",
     "output_type": "stream",
     "text": [
      "cur_step: 7750\n",
      "  loss: tensor(0.2323, device='cuda:0')\n",
      "  recall: {0: 0.3127659574468085, 1: 0.58, 2: 0.375, 3: 0.4594594594594595, 4: 0.6441717791411042, 5: 0.2727272727272727, 6: 0.39869281045751637}\n",
      "  precision: {0: 0.7777777777777778, 1: 0.3799126637554585, 2: 0.15789473684210525, 3: 0.3953488372093023, 4: 0.34201954397394135, 5: 0.14634146341463414, 6: 0.5126050420168067}\n",
      "  F1_score: {0: 0.44613050075872535, 1: 0.45910290237467016, 2: 0.22222222222222218, 3: 0.425, 4: 0.44680851063829785, 5: 0.19047619047619044, 6: 0.4485294117647059}\n",
      "  macro_F1_score: 0.37689567689068737\n",
      "==========================================================================================\n",
      "Model saved to results/t5-base-peft/lr_0.001-epochs_20-batch_20 with F1 score: 0.37689567689068737\n"
     ]
    },
    {
     "data": {
      "application/vnd.jupyter.widget-view+json": {
       "model_id": "2c1b6f33069f4a63a3f01415d018457c",
       "version_major": 2,
       "version_minor": 0
      },
      "text/plain": [
       "Eval loop:   0%|          | 0/56 [00:00<?, ?it/s]"
      ]
     },
     "metadata": {},
     "output_type": "display_data"
    },
    {
     "name": "stdout",
     "output_type": "stream",
     "text": [
      "cur_step: 8000\n",
      "  loss: tensor(0.1544, device='cuda:0')\n",
      "  recall: {0: 0.2936170212765957, 1: 0.54, 2: 0.425, 3: 0.5765765765765766, 4: 0.5705521472392638, 5: 0.3181818181818182, 6: 0.35294117647058826}\n",
      "  precision: {0: 0.7796610169491526, 1: 0.40298507462686567, 2: 0.18888888888888888, 3: 0.30917874396135264, 4: 0.3563218390804598, 5: 0.1111111111111111, 6: 0.4909090909090909}\n",
      "  F1_score: {0: 0.4265842349304482, 1: 0.4615384615384615, 2: 0.2615384615384615, 3: 0.4025157232704403, 4: 0.4386792452830189, 5: 0.16470588235294117, 6: 0.41064638783269963}\n",
      "  macro_F1_score: 0.36660119953521014\n",
      "==========================================================================================\n"
     ]
    },
    {
     "data": {
      "application/vnd.jupyter.widget-view+json": {
       "model_id": "600eb8a75069441d9e1b8a2a0840d426",
       "version_major": 2,
       "version_minor": 0
      },
      "text/plain": [
       " inner loop:   0%|          | 0/500 [00:00<?, ?it/s]"
      ]
     },
     "metadata": {},
     "output_type": "display_data"
    },
    {
     "data": {
      "application/vnd.jupyter.widget-view+json": {
       "model_id": "287cf086df4d494eb1d2f3129a03e4e6",
       "version_major": 2,
       "version_minor": 0
      },
      "text/plain": [
       "Eval loop:   0%|          | 0/56 [00:00<?, ?it/s]"
      ]
     },
     "metadata": {},
     "output_type": "display_data"
    },
    {
     "name": "stdout",
     "output_type": "stream",
     "text": [
      "cur_step: 8250\n",
      "  loss: tensor(0.2132, device='cuda:0')\n",
      "  recall: {0: 0.22340425531914893, 1: 0.5466666666666666, 2: 0.475, 3: 0.43243243243243246, 4: 0.5766871165644172, 5: 0.3181818181818182, 6: 0.39869281045751637}\n",
      "  precision: {0: 0.8203125, 1: 0.38317757009345793, 2: 0.12418300653594772, 3: 0.32432432432432434, 4: 0.3671875, 5: 0.10294117647058823, 6: 0.4295774647887324}\n",
      "  F1_score: {0: 0.35117056856187295, 1: 0.45054945054945056, 2: 0.19689119170984457, 3: 0.3706563706563707, 4: 0.4486873508353222, 5: 0.15555555555555556, 6: 0.41355932203389834}\n",
      "  macro_F1_score: 0.34100997284318785\n",
      "==========================================================================================\n"
     ]
    },
    {
     "data": {
      "application/vnd.jupyter.widget-view+json": {
       "model_id": "a95bab4aa4224165a43ea56d32b1e98e",
       "version_major": 2,
       "version_minor": 0
      },
      "text/plain": [
       "Eval loop:   0%|          | 0/56 [00:00<?, ?it/s]"
      ]
     },
     "metadata": {},
     "output_type": "display_data"
    },
    {
     "name": "stdout",
     "output_type": "stream",
     "text": [
      "cur_step: 8500\n",
      "  loss: tensor(0.3374, device='cuda:0')\n",
      "  recall: {0: 0.28085106382978725, 1: 0.56, 2: 0.25, 3: 0.5315315315315315, 4: 0.6257668711656442, 5: 0.36363636363636365, 6: 0.4444444444444444}\n",
      "  precision: {0: 0.8, 1: 0.3853211009174312, 2: 0.21739130434782608, 3: 0.3259668508287293, 4: 0.3591549295774648, 5: 0.11594202898550725, 6: 0.4657534246575342}\n",
      "  F1_score: {0: 0.41574803149606304, 1: 0.4565217391304348, 2: 0.23255813953488372, 3: 0.40410958904109584, 4: 0.4563758389261745, 5: 0.1758241758241758, 6: 0.45484949832775917}\n",
      "  macro_F1_score: 0.3708552874686553\n",
      "==========================================================================================\n"
     ]
    },
    {
     "data": {
      "application/vnd.jupyter.widget-view+json": {
       "model_id": "3f3542fc642f4947912cf2e5da5bd2f7",
       "version_major": 2,
       "version_minor": 0
      },
      "text/plain": [
       " inner loop:   0%|          | 0/500 [00:00<?, ?it/s]"
      ]
     },
     "metadata": {},
     "output_type": "display_data"
    },
    {
     "data": {
      "application/vnd.jupyter.widget-view+json": {
       "model_id": "124f5e6cad5443c2a3afcc3a8b00050e",
       "version_major": 2,
       "version_minor": 0
      },
      "text/plain": [
       "Eval loop:   0%|          | 0/56 [00:00<?, ?it/s]"
      ]
     },
     "metadata": {},
     "output_type": "display_data"
    },
    {
     "name": "stdout",
     "output_type": "stream",
     "text": [
      "cur_step: 8750\n",
      "  loss: tensor(0.2564, device='cuda:0')\n",
      "  recall: {0: 0.2851063829787234, 1: 0.5666666666666667, 2: 0.35, 3: 0.4594594594594595, 4: 0.5828220858895705, 5: 0.4090909090909091, 6: 0.45098039215686275}\n",
      "  precision: {0: 0.8220858895705522, 1: 0.38636363636363635, 2: 0.11570247933884298, 3: 0.40476190476190477, 4: 0.41125541125541126, 5: 0.08490566037735849, 6: 0.4859154929577465}\n",
      "  F1_score: {0: 0.42338072669826227, 1: 0.4594594594594595, 2: 0.17391304347826086, 3: 0.430379746835443, 4: 0.48223350253807107, 5: 0.140625, 6: 0.46779661016949153}\n",
      "  macro_F1_score: 0.36825544131128407\n",
      "==========================================================================================\n"
     ]
    },
    {
     "data": {
      "application/vnd.jupyter.widget-view+json": {
       "model_id": "05fae0d5cced444f87fe5041cbc0a05c",
       "version_major": 2,
       "version_minor": 0
      },
      "text/plain": [
       "Eval loop:   0%|          | 0/56 [00:00<?, ?it/s]"
      ]
     },
     "metadata": {},
     "output_type": "display_data"
    },
    {
     "name": "stdout",
     "output_type": "stream",
     "text": [
      "cur_step: 9000\n",
      "  loss: tensor(0.1995, device='cuda:0')\n",
      "  recall: {0: 0.2851063829787234, 1: 0.56, 2: 0.45, 3: 0.46846846846846846, 4: 0.5460122699386503, 5: 0.36363636363636365, 6: 0.45098039215686275}\n",
      "  precision: {0: 0.8072289156626506, 1: 0.4057971014492754, 2: 0.14754098360655737, 3: 0.33121019108280253, 4: 0.388646288209607, 5: 0.10526315789473684, 6: 0.45394736842105265}\n",
      "  F1_score: {0: 0.42138364779874216, 1: 0.4705882352941177, 2: 0.22222222222222224, 3: 0.38805970149253727, 4: 0.45408163265306123, 5: 0.16326530612244897, 6: 0.45245901639344266}\n",
      "  macro_F1_score: 0.36743710885379605\n",
      "==========================================================================================\n"
     ]
    },
    {
     "data": {
      "application/vnd.jupyter.widget-view+json": {
       "model_id": "afe9e630d65f4332a4737bfb04c6e70e",
       "version_major": 2,
       "version_minor": 0
      },
      "text/plain": [
       " inner loop:   0%|          | 0/500 [00:00<?, ?it/s]"
      ]
     },
     "metadata": {},
     "output_type": "display_data"
    },
    {
     "data": {
      "application/vnd.jupyter.widget-view+json": {
       "model_id": "08d1b29ef8c7473c8a4d6a5d97792911",
       "version_major": 2,
       "version_minor": 0
      },
      "text/plain": [
       "Eval loop:   0%|          | 0/56 [00:00<?, ?it/s]"
      ]
     },
     "metadata": {},
     "output_type": "display_data"
    },
    {
     "name": "stdout",
     "output_type": "stream",
     "text": [
      "cur_step: 9250\n",
      "  loss: tensor(0.2256, device='cuda:0')\n",
      "  recall: {0: 0.3021276595744681, 1: 0.5733333333333334, 2: 0.275, 3: 0.5675675675675675, 4: 0.5521472392638037, 5: 0.4090909090909091, 6: 0.42483660130718953}\n",
      "  precision: {0: 0.8255813953488372, 1: 0.3722943722943723, 2: 0.16923076923076924, 3: 0.33689839572192515, 4: 0.38961038961038963, 5: 0.09278350515463918, 6: 0.5158730158730159}\n",
      "  F1_score: {0: 0.4423676012461059, 1: 0.45144356955380577, 2: 0.20952380952380953, 3: 0.4228187919463087, 4: 0.45685279187817257, 5: 0.1512605042016807, 6: 0.4659498207885305}\n",
      "  macro_F1_score: 0.371459555591202\n",
      "==========================================================================================\n"
     ]
    },
    {
     "data": {
      "application/vnd.jupyter.widget-view+json": {
       "model_id": "22ce3433f3fb468899126c177f08562a",
       "version_major": 2,
       "version_minor": 0
      },
      "text/plain": [
       "Eval loop:   0%|          | 0/56 [00:00<?, ?it/s]"
      ]
     },
     "metadata": {},
     "output_type": "display_data"
    },
    {
     "name": "stdout",
     "output_type": "stream",
     "text": [
      "cur_step: 9500\n",
      "  loss: tensor(0.2507, device='cuda:0')\n",
      "  recall: {0: 0.2425531914893617, 1: 0.5533333333333333, 2: 0.4, 3: 0.5495495495495496, 4: 0.588957055214724, 5: 0.36363636363636365, 6: 0.41830065359477125}\n",
      "  precision: {0: 0.8444444444444444, 1: 0.38073394495412843, 2: 0.16326530612244897, 3: 0.3128205128205128, 4: 0.36923076923076925, 5: 0.11940298507462686, 6: 0.47058823529411764}\n",
      "  F1_score: {0: 0.37685950413223146, 1: 0.4510869565217392, 2: 0.23188405797101447, 3: 0.39869281045751637, 4: 0.4539007092198582, 5: 0.1797752808988764, 6: 0.4429065743944637}\n",
      "  macro_F1_score: 0.3621579847993857\n",
      "==========================================================================================\n"
     ]
    },
    {
     "data": {
      "application/vnd.jupyter.widget-view+json": {
       "model_id": "8d8aafd6ecb848d68013d3485c3b53c0",
       "version_major": 2,
       "version_minor": 0
      },
      "text/plain": [
       " inner loop:   0%|          | 0/500 [00:00<?, ?it/s]"
      ]
     },
     "metadata": {},
     "output_type": "display_data"
    },
    {
     "data": {
      "application/vnd.jupyter.widget-view+json": {
       "model_id": "e1237c30bee140ea936ddfb626f673e0",
       "version_major": 2,
       "version_minor": 0
      },
      "text/plain": [
       "Eval loop:   0%|          | 0/56 [00:00<?, ?it/s]"
      ]
     },
     "metadata": {},
     "output_type": "display_data"
    },
    {
     "name": "stdout",
     "output_type": "stream",
     "text": [
      "cur_step: 9750\n",
      "  loss: tensor(0.2458, device='cuda:0')\n",
      "  recall: {0: 0.24468085106382978, 1: 0.5666666666666667, 2: 0.325, 3: 0.5225225225225225, 4: 0.5705521472392638, 5: 0.36363636363636365, 6: 0.42483660130718953}\n",
      "  precision: {0: 0.8273381294964028, 1: 0.37777777777777777, 2: 0.12264150943396226, 3: 0.31351351351351353, 4: 0.3705179282868526, 5: 0.12121212121212122, 6: 0.4744525547445255}\n",
      "  F1_score: {0: 0.37766830870279144, 1: 0.4533333333333333, 2: 0.17808219178082188, 3: 0.39189189189189194, 4: 0.4492753623188406, 5: 0.18181818181818182, 6: 0.4482758620689655}\n",
      "  macro_F1_score: 0.3543350188449752\n",
      "==========================================================================================\n"
     ]
    },
    {
     "data": {
      "application/vnd.jupyter.widget-view+json": {
       "model_id": "c977b426894d41a6822025576a7bd7ec",
       "version_major": 2,
       "version_minor": 0
      },
      "text/plain": [
       "Eval loop:   0%|          | 0/56 [00:00<?, ?it/s]"
      ]
     },
     "metadata": {},
     "output_type": "display_data"
    },
    {
     "name": "stdout",
     "output_type": "stream",
     "text": [
      "cur_step: 10000\n",
      "  loss: tensor(0.1402, device='cuda:0')\n",
      "  recall: {0: 0.27872340425531916, 1: 0.5666666666666667, 2: 0.375, 3: 0.5225225225225225, 4: 0.5705521472392638, 5: 0.36363636363636365, 6: 0.41830065359477125}\n",
      "  precision: {0: 0.8343949044585988, 1: 0.3881278538812785, 2: 0.13513513513513514, 3: 0.3314285714285714, 4: 0.37349397590361444, 5: 0.12307692307692308, 6: 0.48120300751879697}\n",
      "  F1_score: {0: 0.41786283891547044, 1: 0.46070460704607047, 2: 0.19867549668874177, 3: 0.4055944055944055, 4: 0.45145631067961167, 5: 0.18390804597701152, 6: 0.4475524475524475}\n",
      "  macro_F1_score: 0.36653630749339416\n",
      "==========================================================================================\n"
     ]
    }
   ],
   "source": [
    "from torch.nn import CrossEntropyLoss\n",
    "# setup custom training loop\n",
    "output_dir = f\"results/{model_name_or_path.split('/')[-1]}-peft/lr_{lr}-epochs_{num_epochs}-batch_{batch_size}\"\n",
    "optimizer = torch.optim.AdamW(model.parameters(), lr=lr, weight_decay=weight_decay)\n",
    "num_training_steps = num_epochs * len(train_dataloader)\n",
    "scheduler = get_linear_schedule_with_warmup(\n",
    "    optimizer,\n",
    "    num_warmup_steps=int(num_training_steps * warmup_ratio),\n",
    "    num_training_steps=num_training_steps,\n",
    ")\n",
    "# move model to device\n",
    "model.to(device)\n",
    "# training loop\n",
    "model.train()\n",
    "cur_step = 0\n",
    "best_F1_score = 0\n",
    "train_loss_list = []\n",
    "eval_loss_list = []\n",
    "eval_F1_score_list = []\n",
    "for epoch in trange(num_epochs, desc=\" epoch loop\", position=0):\n",
    "    for batch in tqdm(train_dataloader, desc=\" inner loop\", position=1, leave=False):\n",
    "        # move batch to device\n",
    "        batch = {k: v.to(device) for k, v in batch.items() if isinstance(v, torch.Tensor)}\n",
    "        # forward pass\n",
    "        outputs = model(\n",
    "            input_ids=batch[\"UtteranceID\"],\n",
    "            attention_mask=batch[\"AttentionMask\"],\n",
    "            object_tokens=batch[\"EmotionID\"],\n",
    "            labels=batch[\"Label\"],\n",
    "        )\n",
    "\n",
    "        # loss = outputs.loss\n",
    "        loss = None\n",
    "        lm_logits = outputs.logits\n",
    "        labels = batch[\"Label\"]\n",
    "        if labels is not None:\n",
    "            loss_fct = CrossEntropyLoss(weight = CELoss_weight, ignore_index=-100)\n",
    "            loss = loss_fct(lm_logits.view(-1, lm_logits.size(-1)), labels.view(-1))\n",
    "\n",
    "        # backward pass\n",
    "        loss.backward()\n",
    "        # update parameters\n",
    "        optimizer.step()\n",
    "        scheduler.step()\n",
    "        optimizer.zero_grad()\n",
    "        train_loss_list.append(loss.item())\n",
    "\n",
    "        # if cur_step % logging_steps == 0:\n",
    "        #     print(f\"Step {cur_step}, Loss: {loss.item()}\")\n",
    "\n",
    "\n",
    "        # evaluation\n",
    "        if do_eval and cur_step % eval_steps == eval_steps - 1:\n",
    "            model.eval()\n",
    "            # calculate the macro F1 score\n",
    "\n",
    "            eval_loss = 0.0\n",
    "            num_prediction = {label_id: 0 for label_id in range(len(emotion_token_to_id))}\n",
    "            num_label = {label_id: 0 for label_id in range(len(emotion_token_to_id))}\n",
    "            num_true_positive = {label_id: 0 for label_id in range(len(emotion_token_to_id))}\n",
    "\n",
    "            for eval_batch in tqdm(eval_dataloader, desc=\"Eval loop\", position=2, leave=False):\n",
    "                eval_batch = {k: v.to(device) for k, v in eval_batch.items() if isinstance(v, torch.Tensor)}\n",
    "                with torch.no_grad():\n",
    "                    eval_outputs = model(\n",
    "                        input_ids=eval_batch[\"UtteranceID\"],\n",
    "                        attention_mask=eval_batch[\"AttentionMask\"],\n",
    "                        object_tokens=eval_batch[\"EmotionID\"],\n",
    "                        labels=eval_batch[\"Label\"],\n",
    "                    )\n",
    "                    loss = None\n",
    "                    lm_logits = outputs.logits\n",
    "                    labels = batch[\"Label\"]\n",
    "                    if labels is not None:\n",
    "                        loss_fct = CrossEntropyLoss(weight = CELoss_weight, ignore_index=-100)\n",
    "                        loss = loss_fct(lm_logits.view(-1, lm_logits.size(-1)), labels.view(-1))\n",
    "                    eval_loss += loss\n",
    "\n",
    "                # calculate precision and recall\n",
    "                eval_predictions = eval_outputs.logits.argmax(dim=-1).tolist()\n",
    "                eval_labels = eval_batch[\"Label\"].tolist()\n",
    "                # print(eval_outputs[\"logits\"].shape)\n",
    "                # print(eval_predictions)\n",
    "                # print(eval_labels)\n",
    "\n",
    "                # sweep through the predictions and labels\n",
    "                for i in range(len(eval_predictions)):\n",
    "                    pred = tuple(eval_predictions[i])\n",
    "                    label = tuple(eval_labels[i])\n",
    "                    if pred in emotion_token_to_id:\n",
    "                        num_prediction[emotion_token_to_id[pred]] += 1\n",
    "                    num_label[emotion_token_to_id[label]] += 1\n",
    "                    if pred == label:\n",
    "                        num_true_positive[emotion_token_to_id[pred]] += 1\n",
    "            recall = {label_id: num_true_positive[label_id] / num_label[label_id] if num_label[label_id] > 0 else 0 for label_id in range(len(emotion_token_to_id))}\n",
    "            precision = {label_id: num_true_positive[label_id] / num_prediction[label_id] if num_prediction[label_id] > 0 else 0 for label_id in range(len(emotion_token_to_id))}\n",
    "            F1_score = {label_id: 2 * precision[label_id] * recall[label_id] / (precision[label_id] + recall[label_id]) if (precision[label_id] + recall[label_id]) > 0 else 0 for label_id in range(len(emotion_token_to_id))}\n",
    "            macro_F1_score = np.mean(list(F1_score.values()))\n",
    "            print(f\"cur_step: {cur_step+1}\")\n",
    "            print(\"  loss:\", eval_loss / len(eval_dataloader))\n",
    "            print(\"  recall:\", recall)\n",
    "            print(\"  precision:\", precision)\n",
    "            print(\"  F1_score:\", F1_score)\n",
    "            print(\"  macro_F1_score:\", macro_F1_score)\n",
    "            print(\"==========================================================================================\")\n",
    "            eval_loss_list.append(eval_loss.item() / len(eval_dataloader))\n",
    "            eval_F1_score_list.append(macro_F1_score)\n",
    "\n",
    "            # save the model if the F1 score is better than the best F1 score\n",
    "            if macro_F1_score > best_F1_score:\n",
    "                best_F1_score = macro_F1_score\n",
    "                model.save_pretrained(output_dir)\n",
    "                tokenizer.save_pretrained(output_dir)\n",
    "                print(f\"Model saved to {output_dir} with F1 score: {best_F1_score}\")\n",
    "\n",
    "            model.train()\n",
    "\n",
    "        cur_step += 1\n",
    "\n"
   ]
  },
  {
   "cell_type": "code",
   "execution_count": 147,
   "metadata": {},
   "outputs": [
    {
     "data": {
      "text/plain": [
       "[0.27924470193684103]"
      ]
     },
     "execution_count": 147,
     "metadata": {},
     "output_type": "execute_result"
    }
   ],
   "source": [
    "eval_loss_list_smooth"
   ]
  },
  {
   "cell_type": "code",
   "execution_count": null,
   "metadata": {},
   "outputs": [
    {
     "data": {
      "image/png": "[encoded data removed]",
      "text/plain": [
       "<Figure size 1000x500 with 1 Axes>"
      ]
     },
     "metadata": {},
     "output_type": "display_data"
    },
    {
     "data": {
      "image/png": "[encoded data removed]",
      "text/plain": [
       "<Figure size 1000x500 with 1 Axes>"
      ]
     },
     "metadata": {},
     "output_type": "display_data"
    },
    {
     "data": {
      "image/png": "[encoded data removed]",
      "text/plain": [
       "<Figure size 1000x500 with 1 Axes>"
      ]
     },
     "metadata": {},
     "output_type": "display_data"
    }
   ],
   "source": [
    "# draw the training and evaluation loss\n",
    "import matplotlib.pyplot as plt\n",
    "# smooth training loss\n",
    "avg_num = 100\n",
    "train_loss_list_smooth = [sum(train_loss_list[begin_idx:begin_idx+avg_num])/len(train_loss_list[begin_idx:begin_idx+avg_num]) for begin_idx in range(0, len(train_loss_list), avg_num)]\n",
    "plt.figure(figsize=(10, 5))\n",
    "plt.plot(train_loss_list_smooth, label=\"train loss\")\n",
    "plt.xlabel(\"Step\")\n",
    "plt.ylabel(\"Loss\")\n",
    "plt.title(\"Training Loss\")\n",
    "plt.legend()\n",
    "plt.show()\n",
    "\n",
    "plt.figure(figsize=(10, 5))\n",
    "plt.plot(eval_loss_list, label=\"eval loss\")\n",
    "plt.xlabel(\"Step\")\n",
    "plt.ylabel(\"Loss\")\n",
    "plt.title(\"Eval Loss\")\n",
    "plt.legend()\n",
    "plt.show()\n",
    "\n",
    "# draw the evaluation F1 score\n",
    "plt.figure(figsize=(10, 5))\n",
    "plt.plot(eval_F1_score_list, label=\"eval F1 score\")\n",
    "plt.xlabel(\"Step\")\n",
    "plt.ylabel(\"F1 score\")\n",
    "plt.title(\"Evaluation F1 Score\")\n",
    "plt.legend()\n",
    "plt.show()\n"
   ]
  },
  {
   "cell_type": "markdown",
   "metadata": {},
   "source": [
    "# ProgressiveDialogueDataset Class (not used for now)"
   ]
  },
  {
   "cell_type": "code",
   "execution_count": null,
   "metadata": {},
   "outputs": [],
   "source": [
    "from torch.utils.data import Dataset, DataLoader\n",
    "import bisect\n",
    "\n",
    "\n",
    "class ProgressiveDialogueDataset(Dataset):\n",
    "    def __init__(self, dialogue_data, utterance_name=\"UtteranceID\", emotion_name=\"EmotionID\", max_length=None, utterance_padding_token_id=0, query_id=7, num_virtual_tokens=20):\n",
    "        \"\"\"\n",
    "        Args:\n",
    "            dialogue_data: A list of lists, where each inner list contains sentences\n",
    "                           from one dialogue.\n",
    "        \"\"\"\n",
    "        self.utterances = dialogue_data[utterance_name]\n",
    "        self.emotions = dialogue_data[emotion_name]\n",
    "\n",
    "        if max_length is None:\n",
    "            max_length=0\n",
    "            for utts in self.utterances:\n",
    "                length = 0\n",
    "                for utt in utts:\n",
    "                    length += utt.shape[-1]+num_virtual_tokens\n",
    "                if length > max_length:\n",
    "                    max_length = length\n",
    "        self.max_length = max_length\n",
    "\n",
    "        self.query_id = query_id\n",
    "        self.utterance_padding_token_id = utterance_padding_token_id\n",
    "        self.num_virtual_tokens = num_virtual_tokens\n",
    "\n",
    "\n",
    "        self.cumulative_sentence_counts = []\n",
    "        self.row_lengths = [len(row) for row in self.utterances]\n",
    "        self.total_sentences = 0\n",
    "        for length in self.row_lengths:\n",
    "            self.total_sentences += length\n",
    "            self.cumulative_sentence_counts.append(self.total_sentences)\n",
    "\n",
    "    def __len__(self):\n",
    "        return self.total_sentences\n",
    "\n",
    "    def __getitem__(self, idx):\n",
    "\n",
    "        # Find which row this index belongs to\n",
    "        row_index = bisect.bisect_right(self.cumulative_sentence_counts, idx)\n",
    "\n",
    "        # Find the index of the sentence within that row\n",
    "        sentence_index = idx - self.cumulative_sentence_counts[row_index]\n",
    "\n",
    "        # Get the progressive sequence of sentences, save space for virtual tokens and concatenate every sentence\n",
    "        utterances = self.utterances[row_index][:sentence_index + 1]\n",
    "        utterance_lengths = [utt.shape[-1] for utt in utterances]\n",
    "\n",
    "        # calculate the desired length of the utterance\n",
    "        begin_index = len(utterance_lengths)\n",
    "        cumulative_length = 0\n",
    "        for i in range(len(utterance_lengths)-1,0-1, -1):\n",
    "            # add virtual token space to the beginning of the sentence\n",
    "            utterances[i] = torch.cat([ torch.full((self.num_virtual_tokens,), self.utterance_padding_token_id, dtype=torch.long), \n",
    "                                        utterances[i]], dim=1)\n",
    "            cumulative_length += utterance_lengths[i]+self.num_virtual_tokens\n",
    "            if cumulative_length > self.max_length:\n",
    "                break\n",
    "            begin_index = i\n",
    "        # concatenate the sentences\n",
    "        if begin_index == len(utterance_lengths):\n",
    "            # if the first sentence is too long, we need to truncate it\n",
    "            utterance = utterances[-1][:self.max_length]\n",
    "            emotions = [self.query_id]\n",
    "            attention_mask = torch.ones((self.max_length,), dtype=torch.long)\n",
    "\n",
    "        else:\n",
    "            utterance = torch.cat(utterances[begin_index:], dim=1)\n",
    "            emotions = self.emotions[row_index][begin_index:sentence_index]\n",
    "            emotions = emotions + [self.query_id]\n",
    "            attention_mask = torch.ones((utterance.shape[-1],), dtype=torch.long)\n",
    "            attention_mask = torch.cat([attention_mask, torch.zeros((self.max_length - utterance.shape[-1],), dtype=torch.long)], dim=1)\n",
    "            utterance = torch.cat([utterance, torch.full((self.max_length - utterance.shape[-1],), self.utterance_padding_token_id, dtype=torch.long)], dim=1)\n",
    "\n",
    "        labels = self.emotions[row_index][sentence_index]\n",
    "\n",
    "        return {\n",
    "            \"UtteranceID\": utterance,\n",
    "            \"EmotionID\": emotions,\n",
    "            \"AttentionMask\": attention_mask,\n",
    "            \"Label\": labels,\n",
    "        }\n",
    "\n",
    "\n"
   ]
  },
  {
   "cell_type": "markdown",
   "metadata": {},
   "source": [
    "# T5-Large"
   ]
  },
  {
   "cell_type": "markdown",
   "metadata": {},
   "source": [
    "## train"
   ]
  },
  {
   "cell_type": "code",
   "execution_count": null,
   "metadata": {},
   "outputs": [],
   "source": [
    "optimizer = torch.optim.AdamW(model.parameters(), lr=lr)\n",
    "lr_scheduler = get_linear_schedule_with_warmup(\n",
    "    optimizer=optimizer,\n",
    "    num_warmup_steps=0,\n",
    "    num_training_steps=(len(train_dataloader) * num_epochs),\n",
    ")"
   ]
  },
  {
   "cell_type": "code",
   "execution_count": null,
   "metadata": {},
   "outputs": [],
   "source": [
    "model = model.to(device)\n",
    "\n",
    "for epoch in range(num_epochs):\n",
    "    model.train()\n",
    "    total_loss = 0\n",
    "    for step, batch in enumerate(tqdm(train_dataloader)):\n",
    "        batch = {k: v.to(device) for k, v in batch.items()}\n",
    "        outputs = model(**batch)\n",
    "        loss = outputs.loss\n",
    "        total_loss += loss.detach().float()\n",
    "        loss.backward()\n",
    "        optimizer.step()\n",
    "        lr_scheduler.step()\n",
    "        optimizer.zero_grad()\n",
    "\n",
    "    model.eval()\n",
    "    eval_loss = 0\n",
    "    eval_preds = []\n",
    "    for step, batch in enumerate(tqdm(eval_dataloader)):\n",
    "        batch = {k: v.to(device) for k, v in batch.items()}\n",
    "        with torch.no_grad():\n",
    "            outputs = model(**batch)\n",
    "        loss = outputs.loss\n",
    "        eval_loss += loss.detach().float()\n",
    "        eval_preds.extend(\n",
    "            tokenizer.batch_decode(torch.argmax(outputs.logits, -1).detach().cpu().numpy(), skip_special_tokens=True)\n",
    "        )\n",
    "\n",
    "    eval_epoch_loss = eval_loss / len(eval_dataloader)\n",
    "    eval_ppl = torch.exp(eval_epoch_loss)\n",
    "    train_epoch_loss = total_loss / len(train_dataloader)\n",
    "    train_ppl = torch.exp(train_epoch_loss)\n",
    "    print(f\"{epoch=}: {train_ppl=} {train_epoch_loss=} {eval_ppl=} {eval_epoch_loss=}\")"
   ]
  },
  {
   "cell_type": "code",
   "execution_count": null,
   "metadata": {},
   "outputs": [],
   "source": [
    "correct = 0\n",
    "total = 0\n",
    "for pred, true in zip(eval_preds, dataset[\"validation\"][\"text_label\"]):\n",
    "    if pred.strip() == true.strip():\n",
    "        correct += 1\n",
    "    total += 1\n",
    "accuracy = correct / total * 100\n",
    "print(f\"{accuracy=} % on the evaluation dataset\")\n",
    "print(f\"{eval_preds[:10]=}\")\n",
    "print(f\"{dataset['validation']['text_label'][:10]=}\")"
   ]
  },
  {
   "cell_type": "markdown",
   "metadata": {},
   "source": [
    "# Llama-4"
   ]
  },
  {
   "cell_type": "code",
   "execution_count": null,
   "metadata": {},
   "outputs": [],
   "source": [
    "# Apply prefix tuning to solve the emotion recognition task\n",
    "# First, do the language modeling task with prefix tuning\n",
    "# The prefix are the emotions in the dataset, and the model will learn to predict the next word based on the prefix\n",
    "# There's also an additional prefix for answering the emotion recognition task.\n",
    "\n",
    "\n",
    "model_id = \"meta-llama/Llama-4-Scout-17B-16E-Instruct\"\n",
    "\n",
    "processor = AutoProcessor.from_pretrained(model_id)\n",
    "model = Llama4ForConditionalGeneration.from_pretrained(\n",
    "    model_id,\n",
    "    attn_implementation=\"flex_attention\",\n",
    "    device_map=\"auto\",\n",
    "    torch_dtype=torch.bfloat16,\n",
    ")\n",
    "messages = [\n",
    "    {\n",
    "        \"role\": \"user\",\n",
    "        \"content\": [\n",
    "            {\"type\": \"text\", \"text\": train_df[\"Emotion\"][0]},\n",
    "            {\"type\": \"text\", \"text\": train_df[\"Utterance\"][0]},\n",
    "        ]\n",
    "    },\n",
    "]\n",
    "inputs = processor.apply_chat_template(\n",
    "    messages,\n",
    "    add_generation_prompt=True,\n",
    "    tokenize=True,\n",
    "    return_dict=True,\n",
    "    return_tensors=\"pt\",\n",
    ")\n",
    "# def get_data_loader(df, processor, max_length=128, batch_size=4):\n",
    "#     \"\"\"\n",
    "#     Create a DataLoader for the dataset.\n",
    "#     \"\"\"\n",
    "#     def encode(examples):\n",
    "#         return processor(\n",
    "#             examples[\"Emotion\"],\n",
    "#             examples[\"Utterance\"],\n",
    "#             truncation=True,\n",
    "#             max_length=max_length,\n",
    "#             padding=\"max_length\",\n",
    "#         )\n",
    "\n",
    "#     # Encode the dataset\n",
    "#     encoded_dataset = df.apply(encode, axis=1).tolist()\n",
    "    \n",
    "#     # Create DataLoader\n",
    "#     data_loader = DataLoader(\n",
    "#         encoded_dataset,\n",
    "#         batch_size=batch_size,\n",
    "#         collate_fn=default_data_collator\n",
    "#     )\n",
    "    \n",
    "#     return data_loader\n",
    "\n"
   ]
  }
 ],
 "metadata": {
  "kernelspec": {
   "display_name": "CARCVenv",
   "language": "python",
   "name": "python3"
  },
  "language_info": {
   "codemirror_mode": {
    "name": "ipython",
    "version": 3
   },
   "file_extension": ".py",
   "mimetype": "text/x-python",
   "name": "python",
   "nbconvert_exporter": "python",
   "pygments_lexer": "ipython3",
   "version": "3.11.4"
  }
 },
 "nbformat": 4,
 "nbformat_minor": 4
}
